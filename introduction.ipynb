{
 "cells": [
  {
   "cell_type": "code",
   "execution_count": 171,
   "metadata": {},
   "outputs": [],
   "source": [
    "from Cryptodome.Util.number import bytes_to_long, long_to_bytes\n",
    "from itertools import cycle "
   ]
  },
  {
   "cell_type": "code",
   "execution_count": 82,
   "metadata": {},
   "outputs": [
    {
     "ename": "TypeError",
     "evalue": "unsupported operand type(s) for ^: 'bytes' and 'bytes'",
     "output_type": "error",
     "traceback": [
      "\u001b[1;31m---------------------------------------------------------------------------\u001b[0m",
      "\u001b[1;31mTypeError\u001b[0m                                 Traceback (most recent call last)",
      "Cell \u001b[1;32mIn[82], line 7\u001b[0m\n\u001b[0;32m      4\u001b[0m FLAG_KEY1_KEY3_KEY2 \u001b[39m=\u001b[39m \u001b[39m'\u001b[39m\u001b[39m04ee9855208a2cd59091d04767ae47963170d1660df7f56f5faf\u001b[39m\u001b[39m'\u001b[39m \n\u001b[0;32m      6\u001b[0m FLAG \u001b[39m=\u001b[39m long_to_bytes(bytes_to_long(\u001b[39mbytes\u001b[39m\u001b[39m.\u001b[39mfromhex(FLAG_KEY1_KEY3_KEY2)) \u001b[39m^\u001b[39m bytes_to_long(\u001b[39mbytes\u001b[39m\u001b[39m.\u001b[39mfromhex(KEY1)) \u001b[39m^\u001b[39m bytes_to_long(\u001b[39mbytes\u001b[39m\u001b[39m.\u001b[39mfromhex(KEY2_KEY3)))\n\u001b[1;32m----> 7\u001b[0m \u001b[39mprint\u001b[39m(\u001b[39mbytes\u001b[39;49m\u001b[39m.\u001b[39;49mfromhex(FLAG_KEY1_KEY3_KEY2)\u001b[39m^\u001b[39;49m\u001b[39mbytes\u001b[39;49m\u001b[39m.\u001b[39;49mfromhex(KEY1))\n",
      "\u001b[1;31mTypeError\u001b[0m: unsupported operand type(s) for ^: 'bytes' and 'bytes'"
     ]
    }
   ],
   "source": [
    "KEY1 = 'a6c8b6733c9b22de7bc0253266a3867df55acde8635e19c73313'\n",
    "KEY2_KEY1 = '37dcb292030faa90d07eec17e3b1c6d8daf94c35d4c9191a5e1e'\n",
    "KEY2_KEY3 = 'c1545756687e7573db23aa1c3452a098b71a7fbf0fddddde5fc1'\n",
    "FLAG_KEY1_KEY3_KEY2 = '04ee9855208a2cd59091d04767ae47963170d1660df7f56f5faf' \n",
    "\n",
    "FLAG = long_to_bytes(bytes_to_long(bytes.fromhex(FLAG_KEY1_KEY3_KEY2)) ^ bytes_to_long(bytes.fromhex(KEY1)) ^ bytes_to_long(bytes.fromhex(KEY2_KEY3)))\n",
    "print(bytes.fromhex(FLAG_KEY1_KEY3_KEY2)^bytes.fromhex(KEY1))"
   ]
  },
  {
   "cell_type": "code",
   "execution_count": 53,
   "metadata": {},
   "outputs": [
    {
     "name": "stdout",
     "output_type": "stream",
     "text": [
      "crypto{0x10_15_my_f4v0ur173_by7e}\n"
     ]
    }
   ],
   "source": [
    "hex = '73626960647f6b206821204f21254f7d694f7624662065622127234f726927756d'\n",
    "for g in range(0,255+1):\n",
    "    guess = ''\n",
    "    for i in range(2,len(hex)+2,2): \n",
    "        guess += long_to_bytes(bytes_to_long(bytes.fromhex(hex[i-2:i]))^g).decode('ascii',errors='ignore')\n",
    "    # we could find only needed ascii signs but since we are working with crypto{xxxx} flag we will sheck for that\n",
    "    \n",
    "    if(guess[0:7] == 'crypto{'): \n",
    "        print(guess)\n",
    "    "
   ]
  },
  {
   "cell_type": "code",
   "execution_count": 179,
   "metadata": {},
   "outputs": [],
   "source": [
    "def xor_lower(x,y): \n",
    "    return [i^j for (i,j) in zip(x,y)]\n",
    "\n",
    "def xor_longer(x,y): \n",
    "    \n",
    "    return [i^j for (i,j) in zip(x,cycle(y))]\n",
    "\n",
    "#def xor(x,y): \n",
    " #   return [i^j for (i,j) in zip(x,cycle(y)) if len(x) > len(b) else zip(cycle(x),y)]"
   ]
  },
  {
   "cell_type": "code",
   "execution_count": 180,
   "metadata": {},
   "outputs": [
    {
     "name": "stdout",
     "output_type": "stream",
     "text": [
      "myXORkey\n",
      "crypto{1f_y0u_Kn0w_En0uGH_y0u_Kn0w_1t_4ll}\n"
     ]
    }
   ],
   "source": [
    "c = '0e0b213f26041e480b26217f27342e175d0e070a3c5b103e2526217f27342e175d0e077e263451150104'\n",
    "\n",
    "format  = b'crypto{'\n",
    "k = ''.join( chr(r) for r in xor_lower(bytes.fromhex(c),format))+'y'\n",
    "print(k)\n",
    "m= ''.join( chr(r) for r in xor_longer(bytes.fromhex(c),bytes(k,'ascii')))\n",
    "print(m)"
   ]
  }
 ],
 "metadata": {
  "kernelspec": {
   "display_name": "Python 3",
   "language": "python",
   "name": "python3"
  },
  "language_info": {
   "codemirror_mode": {
    "name": "ipython",
    "version": 3
   },
   "file_extension": ".py",
   "mimetype": "text/x-python",
   "name": "python",
   "nbconvert_exporter": "python",
   "pygments_lexer": "ipython3",
   "version": "3.11.4"
  },
  "orig_nbformat": 4
 },
 "nbformat": 4,
 "nbformat_minor": 2
}
