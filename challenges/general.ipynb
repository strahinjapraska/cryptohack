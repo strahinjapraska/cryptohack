{
 "cells": [
  {
   "cell_type": "markdown",
   "metadata": {},
   "source": [
    "# ENCODING "
   ]
  },
  {
   "cell_type": "markdown",
   "metadata": {},
   "source": [
    "### ASCII"
   ]
  },
  {
   "cell_type": "code",
   "execution_count": 154,
   "metadata": {},
   "outputs": [
    {
     "data": {
      "text/plain": [
       "'crypto{ASCII_pr1nt4bl3}'"
      ]
     },
     "execution_count": 154,
     "metadata": {},
     "output_type": "execute_result"
    }
   ],
   "source": [
    "ords =  [99, 114, 121, 112, 116, 111, 123, 65, 83, 67, 73, 73, 95, 112, 114, 49, 110, 116, 52, 98, 108, 51, 125]\n",
    "''.join([chr(i) for i in ords])\n"
   ]
  },
  {
   "cell_type": "markdown",
   "metadata": {},
   "source": [
    "### Hex"
   ]
  },
  {
   "cell_type": "code",
   "execution_count": 155,
   "metadata": {},
   "outputs": [
    {
     "data": {
      "text/plain": [
       "b'crypto{You_will_be_working_with_hex_strings_a_lot}'"
      ]
     },
     "execution_count": 155,
     "metadata": {},
     "output_type": "execute_result"
    }
   ],
   "source": [
    "bytes.fromhex('63727970746f7b596f755f77696c6c5f62655f776f726b696e675f776974685f6865785f737472696e67735f615f6c6f747d')\n"
   ]
  },
  {
   "cell_type": "markdown",
   "metadata": {},
   "source": [
    "### Base64"
   ]
  },
  {
   "cell_type": "code",
   "execution_count": 162,
   "metadata": {},
   "outputs": [
    {
     "data": {
      "text/plain": [
       "b'crypto/Base+64+Encoding+is+Web+Safe/'"
      ]
     },
     "execution_count": 162,
     "metadata": {},
     "output_type": "execute_result"
    }
   ],
   "source": [
    "import base64 \n",
    "base64.b64encode(bytes.fromhex('72bca9b68fc16ac7beeb8f849dca1d8a783e8acf9679bf9269f7bf'))"
   ]
  },
  {
   "cell_type": "markdown",
   "metadata": {},
   "source": [
    "### Bytes and Big Integers"
   ]
  },
  {
   "cell_type": "code",
   "execution_count": 164,
   "metadata": {},
   "outputs": [
    {
     "data": {
      "text/plain": [
       "b'crypto{3nc0d1n6_4ll_7h3_w4y_d0wn}'"
      ]
     },
     "execution_count": 164,
     "metadata": {},
     "output_type": "execute_result"
    }
   ],
   "source": [
    "from Cryptodome.Util.number import long_to_bytes\n",
    "\n",
    "i = 11515195063862318899931685488813747395775516287289682636499965282714637259206269\n",
    "\n",
    "long_to_bytes(i)"
   ]
  },
  {
   "cell_type": "markdown",
   "metadata": {},
   "source": [
    "### Encoding challenge"
   ]
  },
  {
   "cell_type": "code",
   "execution_count": 153,
   "metadata": {},
   "outputs": [
    {
     "name": "stdout",
     "output_type": "stream",
     "text": [
      "crypto{3nc0d3_d3c0d3_3nc0d3}\n"
     ]
    }
   ],
   "source": [
    "import telnetlib\n",
    "import json\n",
    "import base64\n",
    "\n",
    "\n",
    "def utf8_decode(s): \n",
    "    utf8b = bytes(s)\n",
    "    return utf8b.decode('utf-8')\n",
    "\n",
    "def hex_decode(s): \n",
    "    return bytes.fromhex(s).decode('utf-8') \n",
    "     \n",
    "\n",
    "def rot13_decode(s):\n",
    "    result = []\n",
    "    for i in s: \n",
    "        \n",
    "        if i!='_':\n",
    "            result.append(chr( (ord(i) - ord('a') + 13) %26 + ord('a')))\n",
    "        else: \n",
    "            result.append('_')\n",
    "\n",
    "\n",
    "    return ''.join(result)\n",
    " \n",
    "def base64_decode(s): \n",
    "    return base64.b64decode(s).decode('utf-8')\n",
    "\n",
    "def bigint_decode(s): \n",
    "    return hex_decode(s[2:])\n",
    "\n",
    "\n",
    "ENCODINGS = {\n",
    "    \"base64\": base64_decode,\n",
    "    \"hex\": hex_decode, \n",
    "    \"rot13\": rot13_decode,\n",
    "    \"bigint\": bigint_decode, \n",
    "    \"utf-8\": utf8_decode,\n",
    "}\n",
    "\n",
    "HOST = \"socket.cryptohack.org\"\n",
    "PORT = 13377\n",
    "\n",
    "\n",
    "\n",
    "tn = telnetlib.Telnet(HOST, PORT)\n",
    "\n",
    "def readline():\n",
    "    return tn.read_until(b\"\\n\")\n",
    "\n",
    "def json_recv():\n",
    "    line = readline()\n",
    "    return json.loads(line.decode())\n",
    "\n",
    "def json_send(hsh):\n",
    "    request = json.dumps(hsh).encode()\n",
    "    tn.write(request)\n",
    "\n",
    "\n",
    "while True:  \n",
    "    received = json_recv()\n",
    "\n",
    "    if 'flag' in received: \n",
    "        print(received[\"flag\"])\n",
    "        break \n",
    "\n",
    "    result = ENCODINGS[received[\"type\"]](received[\"encoded\"])\n",
    "\n",
    "    to_send = {\n",
    "        \"decoded\": result\n",
    "    }\n",
    "    json_send(to_send)\n"
   ]
  },
  {
   "cell_type": "markdown",
   "metadata": {},
   "source": [
    "# XOR "
   ]
  },
  {
   "cell_type": "markdown",
   "metadata": {},
   "source": [
    "### XOR Starter"
   ]
  },
  {
   "cell_type": "code",
   "execution_count": 170,
   "metadata": {},
   "outputs": [
    {
     "name": "stdout",
     "output_type": "stream",
     "text": [
      "crypto{aloha}\n"
     ]
    }
   ],
   "source": [
    "import numpy as np \n",
    "\n",
    "str = 'label'\n",
    "\n",
    "print('crypto{'+''.join([chr(i) for i in [ord(s)^13 for s in str]])+'}')"
   ]
  },
  {
   "cell_type": "markdown",
   "metadata": {},
   "source": [
    "### XOR Properties"
   ]
  },
  {
   "cell_type": "code",
   "execution_count": 172,
   "metadata": {},
   "outputs": [
    {
     "name": "stdout",
     "output_type": "stream",
     "text": [
      "b'crypto{x0r_i5_ass0c1at1v3}'\n"
     ]
    }
   ],
   "source": [
    "from Cryptodome.Util.number import bytes_to_long, long_to_bytes\n",
    "\n",
    "def h2i(h):\n",
    "    return bytes_to_long(bytes.fromhex(h)) \n",
    "\n",
    "KEY1 = 'a6c8b6733c9b22de7bc0253266a3867df55acde8635e19c73313'\n",
    "KEY2_KEY1 = '37dcb292030faa90d07eec17e3b1c6d8daf94c35d4c9191a5e1e'\n",
    "KEY2_KEY3 = 'c1545756687e7573db23aa1c3452a098b71a7fbf0fddddde5fc1'\n",
    "FLAG_KEY1_KEY3_KEY2 = '04ee9855208a2cd59091d04767ae47963170d1660df7f56f5faf' \n",
    "\n",
    "FLAG = long_to_bytes(h2i(FLAG_KEY1_KEY3_KEY2) ^ h2i(KEY1) ^ h2i(KEY2_KEY3))\n",
    "print(FLAG)"
   ]
  },
  {
   "cell_type": "markdown",
   "metadata": {},
   "source": [
    "### Favourite byte "
   ]
  },
  {
   "cell_type": "code",
   "execution_count": 178,
   "metadata": {},
   "outputs": [
    {
     "name": "stdout",
     "output_type": "stream",
     "text": [
      "crypto{0x10_15_my_f4v0ur173_by7e}\n"
     ]
    }
   ],
   "source": [
    "from Cryptodome.Util.number import bytes_to_long, long_to_bytes\n",
    "\n",
    "def h2i(h):\n",
    "    return bytes_to_long(bytes.fromhex(h)) \n",
    "\n",
    "\n",
    "hex = '73626960647f6b206821204f21254f7d694f7624662065622127234f726927756d'\n",
    "for g in range(0,255+1):\n",
    "    guess = ''\n",
    "    for i in range(2,len(hex)+2,2): \n",
    "        guess += long_to_bytes(h2i(hex[i-2:i])^g).decode('ascii',errors='ignore')\n",
    "  \n",
    "    if 'crypto{' in guess: \n",
    "        print(guess)\n",
    "    "
   ]
  },
  {
   "cell_type": "markdown",
   "metadata": {},
   "source": [
    "### You either know, XOR you don't"
   ]
  },
  {
   "cell_type": "code",
   "execution_count": 175,
   "metadata": {},
   "outputs": [
    {
     "name": "stdout",
     "output_type": "stream",
     "text": [
      "myXORkey\n",
      "crypto{1f_y0u_Kn0w_En0uGH_y0u_Kn0w_1t_4ll}\n"
     ]
    }
   ],
   "source": [
    "from itertools import cycle\n",
    "\n",
    "def xor_lower(x,y): \n",
    "    return [i^j for (i,j) in zip(x,y)]\n",
    "\n",
    "def xor_longer(x,y): \n",
    "    \n",
    "    return [i^j for (i,j) in zip(x,cycle(y))]\n",
    "\n",
    "c = '0e0b213f26041e480b26217f27342e175d0e070a3c5b103e2526217f27342e175d0e077e263451150104'\n",
    "\n",
    "format  = b'crypto{'\n",
    "k = ''.join( chr(r) for r in xor_lower(bytes.fromhex(c),format))+'y'\n",
    "print(k)\n",
    "m= ''.join( chr(r) for r in xor_longer(bytes.fromhex(c),bytes(k,'ascii')))\n",
    "print(m)"
   ]
  },
  {
   "cell_type": "markdown",
   "metadata": {},
   "source": [
    "### Lemur XOR"
   ]
  },
  {
   "cell_type": "code",
   "execution_count": 27,
   "metadata": {},
   "outputs": [
    {
     "data": {
      "image/png": "[encoded data removed]",
      "text/plain": [
       "<PIL.Image.Image image mode=RGB size=582x327>"
      ]
     },
     "metadata": {},
     "output_type": "display_data"
    }
   ],
   "source": [
    "from PIL import Image \n",
    "import numpy as np \n",
    "\n",
    "from IPython.display import display\n",
    "\n",
    "\n",
    "lemur = Image.open(\"lemur.png\")\n",
    "flag = Image.open(\"flag.png\")\n",
    "\n",
    "lemurp = np.array(lemur) \n",
    "flagp = np.array(flag)\n",
    "\n",
    "r = np.bitwise_xor(lemurp,flagp)\n",
    "\n",
    "display(Image.fromarray(r))"
   ]
  },
  {
   "cell_type": "markdown",
   "metadata": {},
   "source": [
    "# MATHEMATICS"
   ]
  },
  {
   "cell_type": "markdown",
   "metadata": {},
   "source": [
    "### Greatest common divisior "
   ]
  },
  {
   "cell_type": "code",
   "execution_count": 38,
   "metadata": {},
   "outputs": [
    {
     "data": {
      "text/plain": [
       "1512"
      ]
     },
     "execution_count": 38,
     "metadata": {},
     "output_type": "execute_result"
    }
   ],
   "source": [
    "def gcd(a,b):\n",
    "    if b == 0: \n",
    "        return a\n",
    "    return gcd(b,a%b)\n",
    "\n",
    "gcd(66528,52920)"
   ]
  },
  {
   "cell_type": "markdown",
   "metadata": {},
   "source": [
    "###  Extended GCD"
   ]
  },
  {
   "cell_type": "code",
   "execution_count": 39,
   "metadata": {},
   "outputs": [
    {
     "data": {
      "text/plain": [
       "(1, 10245, -8404)"
      ]
     },
     "execution_count": 39,
     "metadata": {},
     "output_type": "execute_result"
    }
   ],
   "source": [
    "def extended_gcd(a,b):\n",
    "    u = 1 \n",
    "    g = a \n",
    "    x = 0 \n",
    "    y = b \n",
    "    \n",
    "    while y != 0: \n",
    "        q = g//y \n",
    "        t = g%y \n",
    "        \n",
    "        s = u - q*x \n",
    "        u = x\n",
    "        x = s\n",
    "        \n",
    "        g = y \n",
    "        y = t \n",
    "        \n",
    "    \n",
    "    v = (g-a*u)//b \n",
    "    \n",
    "    return g,u,v \n",
    "\n",
    "extended_gcd(26513,32321)\n"
   ]
  },
  {
   "cell_type": "markdown",
   "metadata": {},
   "source": [
    "### Modular arithmetic 1"
   ]
  },
  {
   "cell_type": "code",
   "execution_count": 40,
   "metadata": {},
   "outputs": [
    {
     "data": {
      "text/plain": [
       "4"
      ]
     },
     "execution_count": 40,
     "metadata": {},
     "output_type": "execute_result"
    }
   ],
   "source": [
    "x = 11%6\n",
    "y = 8146798528947%17\n",
    "min(x,y)"
   ]
  },
  {
   "cell_type": "markdown",
   "metadata": {},
   "source": [
    "### Modular arthimetic 2"
   ]
  },
  {
   "cell_type": "markdown",
   "metadata": {},
   "source": [
    "From Fermat's little theorem $a^{p-1} \\equiv 1 \\bmod(p)$\n",
    "\n",
    "Since $p = 65537$. Calculating $273246787654^{65536} (\\bmod 65537) $ will yield $1$"
   ]
  },
  {
   "cell_type": "markdown",
   "metadata": {},
   "source": [
    "### Modular inverse"
   ]
  },
  {
   "cell_type": "markdown",
   "metadata": {},
   "source": [
    "$a^{p-1} \\equiv 1 (\\bmod p)$\n",
    "\n",
    "$a^{p-2+1} \\equiv 1 (\\bmod p)$\n",
    "\n",
    "$a^{p-2} \\equiv a^{-1} (\\bmod p)$"
   ]
  },
  {
   "cell_type": "code",
   "execution_count": 41,
   "metadata": {},
   "outputs": [
    {
     "data": {
      "text/plain": [
       "9"
      ]
     },
     "execution_count": 41,
     "metadata": {},
     "output_type": "execute_result"
    }
   ],
   "source": [
    "def inv(a,p):\n",
    "    return a**(p-2)%p \n",
    "\n",
    "inv(3,13)"
   ]
  }
 ],
 "metadata": {
  "kernelspec": {
   "display_name": "Python 3",
   "language": "python",
   "name": "python3"
  },
  "language_info": {
   "codemirror_mode": {
    "name": "ipython",
    "version": 3
   },
   "file_extension": ".py",
   "mimetype": "text/x-python",
   "name": "python",
   "nbconvert_exporter": "python",
   "pygments_lexer": "ipython3",
   "version": "3.11.4"
  },
  "orig_nbformat": 4
 },
 "nbformat": 4,
 "nbformat_minor": 2
}
