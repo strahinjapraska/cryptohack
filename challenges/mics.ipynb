{
 "cells": [
  {
   "cell_type": "markdown",
   "metadata": {},
   "source": [
    "## Utils"
   ]
  },
  {
   "cell_type": "code",
   "execution_count": 14,
   "metadata": {},
   "outputs": [],
   "source": [
    "import telnetlib \n",
    "import json\n",
    "\n",
    "def readline():\n",
    "    return tn.read_until(b\"\\n\")\n",
    "\n",
    "def json_recv():\n",
    "    line = readline()\n",
    "    return json.loads(line.decode())\n",
    "\n",
    "def json_send(hsh):\n",
    "    request = json.dumps(hsh).encode()\n",
    "    tn.write(request)\n",
    "\n",
    "HOST = 'socket.cryptohack.org' "
   ]
  },
  {
   "cell_type": "markdown",
   "metadata": {},
   "source": [
    "# ONE TIME PAD"
   ]
  },
  {
   "cell_type": "markdown",
   "metadata": {},
   "source": [
    "### Gotta Go Fast "
   ]
  },
  {
   "cell_type": "markdown",
   "metadata": {},
   "source": [
    "Since server uses current time as input to SHA256 as key we can send 2 challenges fast and get same key for encryption of flag and our message"
   ]
  },
  {
   "cell_type": "code",
   "execution_count": 13,
   "metadata": {},
   "outputs": [
    {
     "name": "stdout",
     "output_type": "stream",
     "text": [
      "crypto{t00_f4st_t00_furi0u5}\n"
     ]
    }
   ],
   "source": [
    "from pwn import xor \n",
    "PORT = 13372\n",
    "tn = telnetlib.Telnet(HOST, PORT)\n",
    "\n",
    "readline()\n",
    "\n",
    "m_prime = b'crypto{????????????????????}'\n",
    "forgery = {}\n",
    "forgery['option'] = 'encrypt_data'\n",
    "forgery['input_data'] = m_prime.hex() \n",
    "\n",
    "json_send(forgery)\n",
    "r = json_recv()\n",
    "c_prime = bytes.fromhex(r['encrypted_data']) \n",
    "k= xor(c_prime, m_prime)\n",
    "\n",
    "json_send({'option':'get_flag'})\n",
    "r = json_recv()\n",
    "c = bytes.fromhex(r['encrypted_flag'])\n",
    "print(xor(c, k).decode())"
   ]
  },
  {
   "cell_type": "markdown",
   "metadata": {},
   "source": [
    "### No leaks"
   ]
  },
  {
   "cell_type": "markdown",
   "metadata": {},
   "source": [
    "So it checks if ciphertext has same byte as flag, so basically if we get ciphertext back, we can remove from guesses all the characters we've seen there for our bytes. "
   ]
  },
  {
   "cell_type": "code",
   "execution_count": 36,
   "metadata": {},
   "outputs": [
    {
     "name": "stdout",
     "output_type": "stream",
     "text": [
      "crypto{unr4nd0m_07p}\n"
     ]
    }
   ],
   "source": [
    "import base64 \n",
    "\n",
    "PORT = 13370\n",
    "tn = telnetlib.Telnet(HOST, PORT)\n",
    "\n",
    "readline()\n",
    "FLAG = \"crypto{????????????}\"\n",
    "\n",
    "guesses = [] \n",
    "for _ in range(len(FLAG)-8): \n",
    "    guesses.append([i for i in range(33,127)])\n",
    "\n",
    "while True: \n",
    "    progress = sum([len(i) for i in guesses]) \n",
    "    \n",
    "    if progress == 12: \n",
    "        break \n",
    "\n",
    "    json_send({'msg': 'request'})\n",
    "    r = json_recv()\n",
    "    \n",
    "    if \"error\" not in r:  \n",
    "        c = base64.b64decode(r['ciphertext'])\n",
    "        c = c[7:len(FLAG)-1]\n",
    "        for i in range(len(c)): \n",
    "            try: \n",
    "                guesses[i].remove(c[i]) \n",
    "            except Exception: \n",
    "                continue \n",
    "f = \"crypto{\"           \n",
    "for i, g in enumerate(guesses): \n",
    "    f+=chr(g[0]) \n",
    "print(f+\"}\")"
   ]
  }
 ],
 "metadata": {
  "kernelspec": {
   "display_name": "Python 3",
   "language": "python",
   "name": "python3"
  },
  "language_info": {
   "codemirror_mode": {
    "name": "ipython",
    "version": 3
   },
   "file_extension": ".py",
   "mimetype": "text/x-python",
   "name": "python",
   "nbconvert_exporter": "python",
   "pygments_lexer": "ipython3",
   "version": "3.12.2"
  }
 },
 "nbformat": 4,
 "nbformat_minor": 2
}
