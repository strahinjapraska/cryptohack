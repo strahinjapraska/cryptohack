{
 "cells": [
  {
   "cell_type": "markdown",
   "metadata": {},
   "source": [
    "# PROBABILITY"
   ]
  },
  {
   "cell_type": "markdown",
   "metadata": {},
   "source": [
    "### Jack's Birthday Hash "
   ]
  },
  {
   "cell_type": "markdown",
   "metadata": {},
   "source": [
    "https://brilliant.org/wiki/birthday-paradox/\n",
    "\n",
    "You can find the information I will use here \n",
    "\n",
    "$ p(n)$ -  probability that at least two of the $n$ randomly selected  strings selected from $\\{0,1\\}^{11}$ will result with same hash value \n",
    "\n",
    "$ 2^{11} = 2048$ -  all possible values\n",
    "\n",
    "$ p(n) = ({\\frac{1}{2048}})^n $ \n",
    "\n",
    "$ p(n) = 1 - {(1 - \\frac{1}{2048})}^n $  \n",
    "\n",
    "Using taylor series approximation $ln(1-x) \\approx -x $ for small $x$ \n",
    "\n",
    "What we are looking for is $p(n) \\approx 0.5 $\n",
    "\n",
    "$ 0.5 \\approx 1 - {(1 - \\frac{1}{2048})}^n $\n",
    "\n",
    "$ - 0.5 \\approx  - {(1 - \\frac{1}{2048})}^n $\n",
    "\n",
    "$  0.5 \\approx   {(1 - \\frac{1}{2048})}^n $\n",
    "\n",
    "$ n*ln(1 - \\frac{1}{2048}) ~ \\approx ln(0.5) $ \n",
    "\n",
    "From approximation with Taylor series \n",
    "\n",
    "$ - \\frac{n}{2048} \\approx ln(0.5)$\n",
    "\n",
    "$ n \\approx -2048 \\ln(0.5) = 2048 \\ln(2) \\approx 1420 $\n"
   ]
  },
  {
   "cell_type": "code",
   "execution_count": 6,
   "metadata": {},
   "outputs": [
    {
     "data": {
      "text/plain": [
       "1420"
      ]
     },
     "execution_count": 6,
     "metadata": {},
     "output_type": "execute_result"
    }
   ],
   "source": [
    "import math \n",
    "\n",
    "U = 2**11 \n",
    "\n",
    "round(U*math.log(2))"
   ]
  }
 ],
 "metadata": {
  "kernelspec": {
   "display_name": "Python 3",
   "language": "python",
   "name": "python3"
  },
  "language_info": {
   "codemirror_mode": {
    "name": "ipython",
    "version": 3
   },
   "file_extension": ".py",
   "mimetype": "text/x-python",
   "name": "python",
   "nbconvert_exporter": "python",
   "pygments_lexer": "ipython3",
   "version": "3.11.4"
  }
 },
 "nbformat": 4,
 "nbformat_minor": 2
}
