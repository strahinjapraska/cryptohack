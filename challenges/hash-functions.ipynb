{
 "cells": [
  {
   "cell_type": "markdown",
   "metadata": {},
   "source": [
    "# PROBABILITY"
   ]
  },
  {
   "cell_type": "markdown",
   "metadata": {},
   "source": [
    "### Jack's Birthday Hash "
   ]
  },
  {
   "cell_type": "markdown",
   "metadata": {},
   "source": [
    "https://brilliant.org/wiki/birthday-paradox/\n",
    "\n",
    "You can find the information I will use here \n",
    "\n",
    "$ p(n)$ -  probability that at least two of the $n$ randomly selected  strings selected from $\\{0,1\\}^{11}$ will result with same hash value \n",
    "\n",
    "$ 2^{11} = 2048$ -  all possible values\n",
    "\n",
    "$ p(n) = ({\\frac{1}{2048}})^n $ \n",
    "\n",
    "$ p(n) = 1 - {(1 - \\frac{1}{2048})}^n $  \n",
    "\n",
    "Using taylor series approximation $ln(1-x) \\approx -x $ for small $x$ \n",
    "\n",
    "What we are looking for is $p(n) \\approx 0.5 $\n",
    "\n",
    "$ 0.5 \\approx 1 - {(1 - \\frac{1}{2048})}^n $\n",
    "\n",
    "$ - 0.5 \\approx  - {(1 - \\frac{1}{2048})}^n $\n",
    "\n",
    "$  0.5 \\approx   {(1 - \\frac{1}{2048})}^n $\n",
    "\n",
    "$ n*ln(1 - \\frac{1}{2048}) ~ \\approx ln(0.5) $ \n",
    "\n",
    "From approximation with Taylor series \n",
    "\n",
    "$ - \\frac{n}{2048} \\approx ln(0.5)$\n",
    "\n",
    "$ n \\approx -2048 \\ln(0.5) = 2048 \\ln(2) \\approx 1420 $\n"
   ]
  },
  {
   "cell_type": "code",
   "execution_count": 6,
   "metadata": {},
   "outputs": [
    {
     "data": {
      "text/plain": [
       "1420"
      ]
     },
     "execution_count": 6,
     "metadata": {},
     "output_type": "execute_result"
    }
   ],
   "source": [
    "import math \n",
    "\n",
    "U = 2**11 \n",
    "\n",
    "round(U*math.log(2))"
   ]
  },
  {
   "cell_type": "markdown",
   "metadata": {},
   "source": [
    "### Jack's Birthday Confusion"
   ]
  },
  {
   "cell_type": "markdown",
   "metadata": {},
   "source": [
    "Let $p(n)$ be the probability that in a set of $n$ randomly chosen people at least two share the same birthday. Then $1-p(n)$ is the probability that every single one of them has distinct birthdays. \n",
    "\n",
    "The number of ways to pick to pick n distinct birtdays from a set of 365 days is $365 \\times 364 \\times ... \\times (366 - n)$ This is because each successive birthday has one fewer choice of days left. This is the numerator \n",
    "\n",
    "The number of possibilities for the birtdays of $n$ people is $365^n$ this is denominator \n",
    "\n",
    "$1 - p(n) = \\frac{365 \\times 364 \\times ... \\times (366 - n)}{365^n} = \\frac{365!}{(365-n)!365^n} => p(n) = 1 - \\frac{365!}{(365-n)!365^n}$\n",
    "\n",
    "Now swap 365 with our hash space $U = 2**11$ \n",
    "\n",
    "$p_U(n) = 1 - \\frac{U!}{(U-n)!U^n}$\n",
    "\n",
    "\n",
    "Probability that no hash repeated after n samples: \n",
    "\n",
    "$\\frac{U}{U} \\times (1 - \\frac{1}{U}) \\times (1 - \\frac{2}{U}) \\times ... \\times (1 - \\frac{n-1}{U})$ \n",
    "\n",
    "If we approximate above with $(1-\\frac{1}{U}) = e^{-\\frac{1}{U}}$\n",
    "\n",
    "$p_U(n) \\approx 1 \\times e^{-\\frac{1}{U}} \\times e^{-\\frac{2}{U}} \\times ... \\times e^{-\\frac{n-1}{U}} \n",
    "\\approx e^{-\\frac{1+2+...(n-1)}{U}} \n",
    "\\approx e^{-\\frac{n \\times (n-1)}{2U}}\n",
    "$\n",
    "\n",
    "so probability that we will find is \n",
    "$p(n) \\approx 1 - e^{-\\frac{n^2}{2U}}$\n",
    "\n",
    "For given probability $0.75$ we must find the inverse \n",
    "\n",
    "$n(p) = \\sqrt{2U \\ln(\\frac{1}{1-p})}$\n",
    "\n"
   ]
  },
  {
   "cell_type": "code",
   "execution_count": 4,
   "metadata": {},
   "outputs": [
    {
     "name": "stdout",
     "output_type": "stream",
     "text": [
      "75.35424144099038\n"
     ]
    }
   ],
   "source": [
    "import math \n",
    "\n",
    "U = 2**11 \n",
    "p = 0.75 \n",
    "\n",
    "print(math.sqrt(2*U * math.log(1/(1-p))))"
   ]
  },
  {
   "cell_type": "markdown",
   "metadata": {},
   "source": [
    "# COLLISIONS"
   ]
  },
  {
   "cell_type": "markdown",
   "metadata": {},
   "source": [
    "### Collider"
   ]
  },
  {
   "cell_type": "markdown",
   "metadata": {},
   "source": [
    "https://marc-stevens.nl/research/md5-1block-collision/md5-1block-collision.pdf\n",
    "\n",
    "We use 2 collisions provided in paper above "
   ]
  },
  {
   "cell_type": "code",
   "execution_count": 13,
   "metadata": {},
   "outputs": [
    {
     "name": "stdout",
     "output_type": "stream",
     "text": [
      "{'success': 'Document 008ee33a9d58b51cfeb425b0959121c9 added to system'}\n",
      "{'error': 'Document system crash, leaking flag: crypto{m0re_th4n_ju5t_p1g30nh0le_pr1nc1ple}'}\n"
     ]
    }
   ],
   "source": [
    "import telnetlib \n",
    "import json\n",
    "\n",
    "\n",
    "HOST = 'socket.cryptohack.org' \n",
    "PORT = 13389 \n",
    "tn = telnetlib.Telnet(HOST, PORT)\n",
    "\n",
    "\n",
    "def readline():\n",
    "    return tn.read_until(b\"\\n\")\n",
    "\n",
    "def json_recv():\n",
    "    line = readline()\n",
    "    return json.loads(line.decode())\n",
    "\n",
    "def json_send(hsh):\n",
    "    request = json.dumps(hsh).encode()\n",
    "    tn.write(request)\n",
    "\n",
    "m1 = \"4d c9 68 ff 0e e3 5c 20 95 72 d4 77 7b 72 15 87\\\n",
    "d3 6f a7 b2 1b dc 56 b7 4a 3d c0 78 3e 7b 95 18\\\n",
    "af bf a2 00 a8 28 4b f3 6e 8e 4b 55 b3 5f 42 75\\\n",
    "93 d8 49 67 6d a0 d1 55 5d 83 60 fb 5f 07 fe a2\"\n",
    "m1 = m1.replace(\" \", \"\")\n",
    "\n",
    "m2 = \"4d c9 68 ff 0e e3 5c 20 95 72 d4 77 7b 72 15 87\\\n",
    "d3 6f a7 b2 1b dc 56 b7 4a 3d c0 78 3e 7b 95 18\\\n",
    "af bf a2 02 a8 28 4b f3 6e 8e 4b 55 b3 5f 42 75\\\n",
    "93 d8 49 67 6d a0 d1 d5 5d 83 60 fb 5f 07 fe a2\"\n",
    "m2 = m2.replace(\" \", \"\")\n",
    "\n",
    "\n",
    "readline()\n",
    "json_send({\"document\": m1})\n",
    "print(json_recv()) \n",
    "\n",
    "json_send({\"document\": m2})\n",
    "print(json_recv()) \n"
   ]
  }
 ],
 "metadata": {
  "kernelspec": {
   "display_name": "Python 3",
   "language": "python",
   "name": "python3"
  },
  "language_info": {
   "codemirror_mode": {
    "name": "ipython",
    "version": 3
   },
   "file_extension": ".py",
   "mimetype": "text/x-python",
   "name": "python",
   "nbconvert_exporter": "python",
   "pygments_lexer": "ipython3",
   "version": "3.12.2"
  }
 },
 "nbformat": 4,
 "nbformat_minor": 2
}
