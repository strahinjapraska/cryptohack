{
 "cells": [
  {
   "cell_type": "markdown",
   "metadata": {},
   "source": [
    "# PROBABILITY"
   ]
  },
  {
   "cell_type": "markdown",
   "metadata": {},
   "source": [
    "### Jack's Birthday Hash "
   ]
  },
  {
   "cell_type": "markdown",
   "metadata": {},
   "source": [
    "https://brilliant.org/wiki/birthday-paradox/\n",
    "\n",
    "You can find the information I will use here \n",
    "\n",
    "$ p(n)$ -  probability that at least two of the $n$ randomly selected  strings selected from $\\{0,1\\}^{11}$ will result with same hash value \n",
    "\n",
    "$ 2^{11} = 2048$ -  all possible values\n",
    "\n",
    "$ p(n) = ({\\frac{1}{2048}})^n $ \n",
    "\n",
    "$ p(n) = 1 - {(1 - \\frac{1}{2048})}^n $  \n",
    "\n",
    "Using taylor series approximation $ln(1-x) \\approx -x $ for small $x$ \n",
    "\n",
    "What we are looking for is $p(n) \\approx 0.5 $\n",
    "\n",
    "$ 0.5 \\approx 1 - {(1 - \\frac{1}{2048})}^n $\n",
    "\n",
    "$ - 0.5 \\approx  - {(1 - \\frac{1}{2048})}^n $\n",
    "\n",
    "$  0.5 \\approx   {(1 - \\frac{1}{2048})}^n $\n",
    "\n",
    "$ n*ln(1 - \\frac{1}{2048}) ~ \\approx ln(0.5) $ \n",
    "\n",
    "From approximation with Taylor series \n",
    "\n",
    "$ - \\frac{n}{2048} \\approx ln(0.5)$\n",
    "\n",
    "$ n \\approx -2048 \\ln(0.5) = 2048 \\ln(2) \\approx 1420 $\n"
   ]
  },
  {
   "cell_type": "code",
   "execution_count": 6,
   "metadata": {},
   "outputs": [
    {
     "data": {
      "text/plain": [
       "1420"
      ]
     },
     "execution_count": 6,
     "metadata": {},
     "output_type": "execute_result"
    }
   ],
   "source": [
    "import math \n",
    "\n",
    "U = 2**11 \n",
    "\n",
    "round(U*math.log(2))"
   ]
  },
  {
   "cell_type": "markdown",
   "metadata": {},
   "source": [
    "### Jack's Birthday Confusion"
   ]
  },
  {
   "cell_type": "markdown",
   "metadata": {},
   "source": [
    "Let $p(n)$ be the probability that in a set of $n$ randomly chosen people at least two share the same birthday. Then $1-p(n)$ is the probability that every single one of them has distinct birthdays. \n",
    "\n",
    "The number of ways to pick to pick n distinct birtdays from a set of 365 days is $365 \\times 364 \\times ... \\times (366 - n)$ This is because each successive birthday has one fewer choice of days left. This is the numerator \n",
    "\n",
    "The number of possibilities for the birtdays of $n$ people is $365^n$ this is denominator \n",
    "\n",
    "$1 - p(n) = \\frac{365 \\times 364 \\times ... \\times (366 - n)}{365^n} = \\frac{365!}{(365-n)!365^n} => p(n) = 1 - \\frac{365!}{(365-n)!365^n}$\n",
    "\n",
    "Now swap 365 with our hash space $U = 2**11$ \n",
    "\n",
    "$p_U(n) = 1 - \\frac{U!}{(U-n)!U^n}$\n",
    "\n",
    "\n",
    "Probability that no hash repeated after n samples: \n",
    "\n",
    "$\\frac{U}{U} \\times (1 - \\frac{1}{U}) \\times (1 - \\frac{2}{U}) \\times ... \\times (1 - \\frac{n-1}{U})$ \n",
    "\n",
    "If we approximate above with $(1-\\frac{1}{U}) = e^{-\\frac{1}{U}}$\n",
    "\n",
    "$p_U(n) \\approx 1 \\times e^{-\\frac{1}{U}} \\times e^{-\\frac{2}{U}} \\times ... \\times e^{-\\frac{n-1}{U}} \n",
    "\\approx e^{-\\frac{1+2+...(n-1)}{U}} \n",
    "\\approx e^{-\\frac{n \\times (n-1)}{2U}}\n",
    "$\n",
    "\n",
    "so probability that we will find is \n",
    "$p(n) \\approx 1 - e^{-\\frac{n^2}{2U}}$\n",
    "\n",
    "For given probability $0.75$ we must find the inverse \n",
    "\n",
    "$n(p) = \\sqrt{2U \\ln(\\frac{1}{1-p})}$\n",
    "\n"
   ]
  },
  {
   "cell_type": "code",
   "execution_count": 4,
   "metadata": {},
   "outputs": [
    {
     "name": "stdout",
     "output_type": "stream",
     "text": [
      "75.35424144099038\n"
     ]
    }
   ],
   "source": [
    "import math \n",
    "\n",
    "U = 2**11 \n",
    "p = 0.75 \n",
    "\n",
    "print(math.sqrt(2*U * math.log(1/(1-p))))"
   ]
  },
  {
   "cell_type": "markdown",
   "metadata": {},
   "source": [
    "# COLLISIONS"
   ]
  },
  {
   "cell_type": "markdown",
   "metadata": {},
   "source": [
    "### Collider"
   ]
  },
  {
   "cell_type": "markdown",
   "metadata": {},
   "source": [
    "https://marc-stevens.nl/research/md5-1block-collision/md5-1block-collision.pdf\n",
    "\n",
    "We use 2 collisions provided in paper above "
   ]
  },
  {
   "cell_type": "code",
   "execution_count": 1,
   "metadata": {},
   "outputs": [
    {
     "name": "stderr",
     "output_type": "stream",
     "text": [
      "/var/folders/s6/v17rrjkx205gt68br6qh7zqr0000gn/T/ipykernel_29857/1267281133.py:1: DeprecationWarning: 'telnetlib' is deprecated and slated for removal in Python 3.13\n",
      "  import telnetlib\n"
     ]
    },
    {
     "name": "stdout",
     "output_type": "stream",
     "text": [
      "{'success': 'Document 008ee33a9d58b51cfeb425b0959121c9 added to system'}\n",
      "{'error': 'Document system crash, leaking flag: crypto{m0re_th4n_ju5t_p1g30nh0le_pr1nc1ple}'}\n"
     ]
    }
   ],
   "source": [
    "import telnetlib \n",
    "import json\n",
    "\n",
    "\n",
    "HOST = 'socket.cryptohack.org' \n",
    "PORT = 13389 \n",
    "tn = telnetlib.Telnet(HOST, PORT)\n",
    "\n",
    "\n",
    "def readline():\n",
    "    return tn.read_until(b\"\\n\")\n",
    "\n",
    "def json_recv():\n",
    "    line = readline()\n",
    "    return json.loads(line.decode())\n",
    "\n",
    "def json_send(hsh):\n",
    "    request = json.dumps(hsh).encode()\n",
    "    tn.write(request)\n",
    "\n",
    "m1 = \"4d c9 68 ff 0e e3 5c 20 95 72 d4 77 7b 72 15 87\\\n",
    "d3 6f a7 b2 1b dc 56 b7 4a 3d c0 78 3e 7b 95 18\\\n",
    "af bf a2 00 a8 28 4b f3 6e 8e 4b 55 b3 5f 42 75\\\n",
    "93 d8 49 67 6d a0 d1 55 5d 83 60 fb 5f 07 fe a2\"\n",
    "m1 = m1.replace(\" \", \"\")\n",
    "\n",
    "m2 = \"4d c9 68 ff 0e e3 5c 20 95 72 d4 77 7b 72 15 87\\\n",
    "d3 6f a7 b2 1b dc 56 b7 4a 3d c0 78 3e 7b 95 18\\\n",
    "af bf a2 02 a8 28 4b f3 6e 8e 4b 55 b3 5f 42 75\\\n",
    "93 d8 49 67 6d a0 d1 d5 5d 83 60 fb 5f 07 fe a2\"\n",
    "m2 = m2.replace(\" \", \"\")\n",
    "\n",
    "\n",
    "readline()\n",
    "json_send({\"document\": m1})\n",
    "print(json_recv()) \n",
    "\n",
    "json_send({\"document\": m2})\n",
    "print(json_recv()) \n"
   ]
  },
  {
   "cell_type": "markdown",
   "metadata": {},
   "source": [
    "### Hash Stuffing"
   ]
  },
  {
   "cell_type": "markdown",
   "metadata": {},
   "source": [
    "We can invert this"
   ]
  },
  {
   "cell_type": "code",
   "execution_count": 16,
   "metadata": {},
   "outputs": [
    {
     "name": "stdout",
     "output_type": "stream",
     "text": [
      "[x] Opening connection to socket.cryptohack.org on port 13405\n",
      "[x] Opening connection to socket.cryptohack.org on port 13405: Trying 134.122.111.232\n",
      "[+] Opening connection to socket.cryptohack.org on port 13405: Done\n",
      "Can you help beta test our new CryptoHash? If you find a collision, we'll give you a flag!\n",
      "\n",
      "\n",
      "\n",
      "Please send two hex encoded messages m1, m2 formatted in JSON: {\"flag\": \"Oh no! Looks like we have some more work to do... As promised, here's your flag: crypto{Always_add_padding_even_if_its_a_whole_block!!!}\"}\n",
      "\n"
     ]
    }
   ],
   "source": [
    "from pwn import *\n",
    "import json \n",
    "import re\n",
    "# 2^128 collision protection!\n",
    "BLOCK_SIZE = 32\n",
    "\n",
    "# Nothing up my sleeve numbers (ref: Dual_EC_DRBG P-256 coordinates)\n",
    "W = [0x6b17d1f2, 0xe12c4247, 0xf8bce6e5, 0x63a440f2, 0x77037d81, 0x2deb33a0, 0xf4a13945, 0xd898c296]\n",
    "X = [0x4fe342e2, 0xfe1a7f9b, 0x8ee7eb4a, 0x7c0f9e16, 0x2bce3357, 0x6b315ece, 0xcbb64068, 0x37bf51f5]\n",
    "Y = [0xc97445f4, 0x5cdef9f0, 0xd3e05e1e, 0x585fc297, 0x235b82b5, 0xbe8ff3ef, 0xca67c598, 0x52018192]\n",
    "Z = [0xb28ef557, 0xba31dfcb, 0xdd21ac46, 0xe2a91e3c, 0x304f44cb, 0x87058ada, 0x2cb81515, 0x1e610046]\n",
    "\n",
    "# Lets work with bytes instead!\n",
    "W_bytes = b''.join([x.to_bytes(4,'big') for x in W])\n",
    "X_bytes = b''.join([x.to_bytes(4,'big') for x in X])\n",
    "Y_bytes = b''.join([x.to_bytes(4,'big') for x in Y])\n",
    "Z_bytes = b''.join([x.to_bytes(4,'big') for x in Z])\n",
    "\n",
    "def pad(data):\n",
    "    padding_len = (BLOCK_SIZE - len(data)) % BLOCK_SIZE\n",
    "    return data + bytes([padding_len]*padding_len)\n",
    "\n",
    "def blocks(data):\n",
    "    return [data[i:(i+BLOCK_SIZE)] for i in range(0,len(data),BLOCK_SIZE)]\n",
    "\n",
    "def xor(a,b):\n",
    "    return bytes([x^y for x,y in zip(a,b)])\n",
    "\n",
    "def rotate_left(data, x):\n",
    "    x = x % BLOCK_SIZE\n",
    "    return data[x:] + data[:x]\n",
    "\n",
    "def rotate_right(data, x):\n",
    "    x = x % BLOCK_SIZE\n",
    "    return  data[-x:] + data[:-x]\n",
    "\n",
    "def scramble_block(block):\n",
    "    for _ in range(40):\n",
    "        block = xor(W_bytes, block)\n",
    "        block = rotate_left(block, 6)\n",
    "        block = xor(X_bytes, block)\n",
    "        block = rotate_right(block, 17)\n",
    "    return block\n",
    "\n",
    "def cryptohash(msg):\n",
    "    initial_state = xor(Y_bytes, Z_bytes)\n",
    "    msg_padded = pad(msg)\n",
    "    msg_blocks = blocks(msg_padded)\n",
    "    for i,b in enumerate(msg_blocks):\n",
    "        mix_in = scramble_block(b)\n",
    "        for _ in range(i):\n",
    "            mix_in = rotate_right(mix_in, i+11)\n",
    "            mix_in = xor(mix_in, X_bytes)\n",
    "            mix_in = rotate_left(mix_in, i+6)\n",
    "        initial_state = xor(initial_state,mix_in)\n",
    "    return initial_state.hex()\n",
    "\n",
    "\n",
    "def unscramble(block):\n",
    "    for _ in range(40):\n",
    "        block = rotate_left(block, 17)\n",
    "        block = xor(X_bytes, block)\n",
    "        block = rotate_right(block, 6)\n",
    "        block = xor(W_bytes, block)\n",
    "    \n",
    "    return block \n",
    "\n",
    "\n",
    "  \n",
    "c = remote('socket.cryptohack.org', 13405) \n",
    "print(c.recvline().decode())\n",
    "print(c.recvline().decode())\n",
    "\n",
    "msg1 = X_bytes\n",
    "msg2 = Y_bytes\n",
    "\n",
    "target = cryptohash(msg1)\n",
    "state = cryptohash(msg2)\n",
    "\n",
    "mix_in = xor(bytes.fromhex(target), bytes.fromhex(state))\n",
    "mix_in = rotate_right(mix_in, 7)\n",
    "mix_in = xor(mix_in, X_bytes)\n",
    "mix_in = rotate_left(mix_in, 12)\n",
    "\n",
    "msg2_block = unscramble(mix_in)\n",
    "msg2 = msg2+ msg2_block\n",
    "\n",
    "request = json.dumps({'m1': msg1.hex(), 'm2': msg2.hex()})\n",
    "c.sendline(request.encode())\n",
    "\n",
    "response = c.recvline().decode()\n",
    "print(response)\n"
   ]
  },
  {
   "cell_type": "markdown",
   "metadata": {},
   "source": [
    "### PriMeD5"
   ]
  },
  {
   "cell_type": "markdown",
   "metadata": {},
   "source": []
  },
  {
   "cell_type": "code",
   "execution_count": null,
   "metadata": {},
   "outputs": [],
   "source": []
  },
  {
   "cell_type": "markdown",
   "metadata": {},
   "source": [
    "# HASH-BASED CRYPTOGRAPHY"
   ]
  },
  {
   "cell_type": "markdown",
   "metadata": {},
   "source": [
    "### Merkle Trees"
   ]
  },
  {
   "cell_type": "code",
   "execution_count": 17,
   "metadata": {},
   "outputs": [
    {
     "name": "stdout",
     "output_type": "stream",
     "text": [
      "crypto{U_are_R3ady_For_S4plins_ch4lls}\n"
     ]
    }
   ],
   "source": [
    "import ast \n",
    "from hashlib import sha256\n",
    "from Crypto.Util.number import long_to_bytes\n",
    "\n",
    "\n",
    "def hash256(data):\n",
    "    return sha256(data).digest()\n",
    "\n",
    "def merge_nodes(a, b):\n",
    "    return hash256(a+b)\n",
    "\n",
    "\n",
    "data = [] \n",
    "with open(\"data/merkle_tree.txt\") as f: \n",
    "    lines = f.readlines() \n",
    "    for l in lines: \n",
    "        data.append(ast.literal_eval(l))\n",
    "\n",
    "\n",
    "bitstring = \"\"\n",
    "for datum in data:  \n",
    "    a = bytes.fromhex(datum[0]) \n",
    "    b = bytes.fromhex(datum[1])\n",
    "    c = bytes.fromhex(datum[2])\n",
    "    d = bytes.fromhex(datum[3])\n",
    "    root = bytes.fromhex(datum[4])\n",
    "    bitstring+=str(int(root == merge_nodes(merge_nodes(a,b), merge_nodes(c,d))))\n",
    "\n",
    "print(long_to_bytes(int(bitstring,2)).decode())"
   ]
  }
 ],
 "metadata": {
  "kernelspec": {
   "display_name": "Python 3",
   "language": "python",
   "name": "python3"
  },
  "language_info": {
   "codemirror_mode": {
    "name": "ipython",
    "version": 3
   },
   "file_extension": ".py",
   "mimetype": "text/x-python",
   "name": "python",
   "nbconvert_exporter": "python",
   "pygments_lexer": "ipython3",
   "version": "3.12.3"
  }
 },
 "nbformat": 4,
 "nbformat_minor": 2
}
