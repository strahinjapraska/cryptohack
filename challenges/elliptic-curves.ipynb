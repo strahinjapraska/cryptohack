{
 "cells": [
  {
   "cell_type": "markdown",
   "metadata": {},
   "source": [
    "# BACKGROUND"
   ]
  },
  {
   "cell_type": "markdown",
   "metadata": {},
   "source": [
    "### Background Reading"
   ]
  },
  {
   "cell_type": "markdown",
   "metadata": {},
   "source": [
    "ECC is an asymmetric cryptographic protocol that relies on a trap-door function. \n",
    "\n",
    "$y^2 = x^3 + aX +b$\n",
    "Weierstrass equation \n",
    "\n",
    "We define an operator called \"point addition\". This operator takes two points on some curve and produce a third point on the curve. Taking the set of points on an elliptic curve, point addition defines an Abelian group operation. \n",
    "\n",
    "Scalar multiplication is repeated point addition of the same point. $Q = 2P = P+P$. It turns out it is a trap door function, it's hard to find $n$ such that $Q=np$ given $Q$ and $P$\n",
    "\n",
    "Geometrically we can think of point addition as taking two points, $P,Q$ with their $x,y$ coordinates. We draw a straight line that passes through both points. We continue this line until we get third intersection with curve which is point $R$ we reflect it around $y$ to get $R' = R(x, -y)$. The result of addition is $P+Q = R'$ \n",
    "\n",
    "What if we want to add two of the same points together $P+P$? We can't draw a unique line through one point, but we can pick a unique line by calculating the tangent line to the curve at the point. Calculate the tangent line at the point P. Continue to do so until the line intersects with curve at point $R$. Reflect this point as before $P + P = R' = R(x, -y)$ \n",
    "\n",
    "What happens if there is no third intersection? Sometimes we will pick two points $P,Q$ and the line will not touch the curve again. In this case we say that the line intersects with point $O$ which is a single point located at the end of every vertical line at infinity. Now point addition for elliptic curve is defined in 2D space with additional point located at infinity. \n",
    "\n",
    "![img](https://cryptohack.org/static/img/ECClines.svg)\n",
    "\n",
    "The point $O$ acts as the identity operator of the group: $P + O = P$ and $P + (-P) = O$\n",
    "\n",
    "**Definition:** An elliptic curve E is the set of solutions to a Weierstrass equation $E: y^2 = x^3 + aX + b$ together with a point at infinity $O$. The constants $a,b$ must satisfy the relationship $4a^3 + 27b^2 \\neq 0$ to ensure there are no singularities on the curve. \n",
    "\n",
    "Formally let E be an elliptic curve, point addition has these properties: \n",
    "1) $P + O = O + P = P$ \n",
    "2) $P + (-P) = O$ \n",
    "3) $(P + Q) + R = P + (Q + R)$ \n",
    "4) $P + Q = Q + P$ \n",
    "\n",
    "In ECC we study elliptic curves over a finite field $F_p$. This means we look at the curve modulo the charactertistic $p$ and an elliptic curve will no longer be a curve but a collection of points whose $x,y$ are integers in $F_p$"
   ]
  },
  {
   "cell_type": "code",
   "execution_count": 2,
   "metadata": {},
   "outputs": [
    {
     "name": "stdout",
     "output_type": "stream",
     "text": [
      "crypto{abelian}\n"
     ]
    }
   ],
   "source": [
    "print('crypto{abelian}')"
   ]
  },
  {
   "cell_type": "markdown",
   "metadata": {},
   "source": [
    "# STARTER "
   ]
  },
  {
   "cell_type": "markdown",
   "metadata": {},
   "source": [
    "### Point Negation"
   ]
  },
  {
   "cell_type": "markdown",
   "metadata": {},
   "source": [
    "In pictures they were real numbers, to apply in cryptographic settings, we study elliptic curves which have coordinates in a finite field $F_p$\n",
    "\n",
    "We no longer think of the elliptic curves as geometric object, but rather a set of points defined by \n",
    "$E(F_p) = \\{(x,y) : x,y \\in F_p ; y^2  =x^3 + ax + b \\} \\cup O$"
   ]
  },
  {
   "cell_type": "code",
   "execution_count": 30,
   "metadata": {},
   "outputs": [
    {
     "name": "stdout",
     "output_type": "stream",
     "text": [
      "crypto{8045,2803}\n"
     ]
    }
   ],
   "source": [
    "p = 9739 \n",
    "y = 6936 \n",
    "x = 8045 \n",
    "\n",
    "print('crypto{'+str(x)+','+str(-y%p)+'}') "
   ]
  },
  {
   "cell_type": "markdown",
   "metadata": {},
   "source": [
    "### Point Addition"
   ]
  },
  {
   "cell_type": "markdown",
   "metadata": {},
   "source": [
    "Algorithm for calculating point addition of two points $P+Q$ \n",
    "1) If $P=O$, then $P+Q=Q$\n",
    "2) Otherwise, if $Q=O$, then $P+Q = P$ \n",
    "3) Otherwise, write $P=(x_1, y_1)$ and $Q(x_2,y_2)$\n",
    "4) If $x_1 = x_2$ and $y_1 = -y_2$, then $P+Q = O$ \n",
    "5) Otherwise: \n",
    "\n",
    "    5.1) if $P \\neq Q: \\lambda = \\frac{(y_2 - y_1)}{x_2 - x_1}$ \n",
    "    \n",
    "    5.2) if $P = Q: \\lambda = \\frac{3x_1^2 +a}{2y_1}$\n",
    "6) $x_3 = \\lambda^2 - x_1 - x_2, y_3 = \\lambda(x_1-x_3) - y+1$ \n",
    "7) $P+Q=(x_3,y_3)$"
   ]
  },
  {
   "cell_type": "code",
   "execution_count": 36,
   "metadata": {},
   "outputs": [],
   "source": [
    "from math import floor\n",
    "\n",
    "O = 'Infinity'\n",
    "def inv(a,p):\n",
    "        return pow(a, p-2, p)\n",
    "\n",
    "class Point: \n",
    "    def __init__(self, x, y, a, b, p): \n",
    "        self.x = x \n",
    "        self.y = y \n",
    "        self.a = a \n",
    "        self.b = b \n",
    "        self.p = p \n",
    "       \n",
    "\n",
    "    def __eq__(self, other): \n",
    "        if isinstance(other, Point): \n",
    "            return self.x == other.x and self.y == other.y \n",
    "        return False\n",
    "  \n",
    "    def __add__(self, Q):\n",
    "            if isinstance(Q, str) and Q == O: \n",
    "                 return self \n",
    "            elif isinstance(self, str) and self == O: \n",
    "                 return Q \n",
    "             \n",
    "            x1 = self.x \n",
    "            y1 = self.y \n",
    "            x2 = Q.x \n",
    "            y2 = Q.y\n",
    "\n",
    "         \n",
    "            if x1 == x2 and y1 == -y2%p: \n",
    "                return O\n",
    "           \n",
    "            if self == Q: \n",
    "                lamb = (3*x1*x1 + self.a)*inv(2*y1 ,p) \n",
    "            else: \n",
    "                lamb = (y2-y1)*inv(x2-x1,p)     \n",
    "            x3 = (lamb * lamb - x1 - x2)%p \n",
    "            y3 = (lamb*(x1 - x3) - y1)%p\n",
    "\n",
    "            return Point(x3, y3, a, b, p)\n",
    "    \n",
    "    def __mul__(self, n): \n",
    "            Q = self\n",
    "            R = O \n",
    "\n",
    "            while n>0: \n",
    "                if n%2 == 1: \n",
    "                    R = R+Q \n",
    "                Q = Q+Q \n",
    "                n = floor(n/2)\n",
    "               \n",
    "\n",
    "            return R\n",
    "    \n",
    "    def __radd__(self, other):\n",
    "        return self.__add__(other)\n"
   ]
  },
  {
   "cell_type": "code",
   "execution_count": 50,
   "metadata": {},
   "outputs": [
    {
     "name": "stdout",
     "output_type": "stream",
     "text": [
      "crypto{4215,2162}\n"
     ]
    }
   ],
   "source": [
    "a = 497 \n",
    "b = 1768 \n",
    "p = 9739 \n",
    "    \n",
    "\n",
    "X = Point(5274, 2841, a, b, p)\n",
    "Y = Point(8669, 740, a, b, p)\n",
    "\n",
    "assert(X+Y == Point(1024, 4440, a, b, p))\n",
    "assert(X+X == Point(7284, 2107, a, b, p))\n",
    "\n",
    "P = Point(493, 5564, a, b, p)\n",
    "Q = Point(1539, 4742, a, b, p)\n",
    "R = Point(4403, 5202, a, b, p)\n",
    "\n",
    "res = P+P+Q+R\n",
    "print('crypto{' + str(res.x) + ',' + str(res.y) +'}')"
   ]
  },
  {
   "cell_type": "markdown",
   "metadata": {},
   "source": [
    "### Point Multiplication "
   ]
  },
  {
   "cell_type": "markdown",
   "metadata": {},
   "source": [
    "Scalar multiplication of two points is defined by repeated addition \n",
    "\n",
    "Double and add algorithm: \n",
    "Input $n,P$\n",
    "1) Set $Q = P$ and $R = O$\n",
    "2) Loop while n>0\n",
    "\n",
    "    2.1) If $n \\equiv 1 \\bmod 2$ set $R=R+Q$\n",
    "\n",
    "    2.2) Set $Q=2Q$ and $n= \\lfloor \\frac{n}{2} \\rfloor$\n",
    "\n",
    "    2.3) If $n>0$, continue with loop at Step 2. \n",
    "\n",
    "3) Return the point $R$, which $nP$  "
   ]
  },
  {
   "cell_type": "code",
   "execution_count": 54,
   "metadata": {},
   "outputs": [
    {
     "name": "stdout",
     "output_type": "stream",
     "text": [
      "crypto{9467,2742}\n"
     ]
    }
   ],
   "source": [
    "a = 497 \n",
    "b = 1768 \n",
    "p = 9739 \n",
    "\n",
    "P = Point(2339, 2213, a, b, p)\n",
    "n = 7863 \n",
    "res = P*n \n",
    "print('crypto{' + str(res.x) + ',' + str(res.y) +'}')"
   ]
  },
  {
   "cell_type": "markdown",
   "metadata": {},
   "source": [
    "### Curves and Logs"
   ]
  },
  {
   "cell_type": "markdown",
   "metadata": {},
   "source": [
    "The Elliptic Curve Discrete Logarithm Problem(ECDLP) is the problem of finding an integer $n$ s.t. $Q=nP$ \n",
    "\n",
    "The most efficient algorithm for this is $p^\\frac{1}{2}$\n",
    "\n",
    "Alice and Bob want a shared secret so they can start encrypting messages with some symmetric cryptographic protocol \n",
    "\n",
    "Alice and Bob agree on a curve $E$, a prime $p$ and a generator point $G$\n",
    "\n",
    "In ECC it is important that the order of $G$ is prime. \n",
    "\n",
    "Alice generates a secret random integer $n_A$ and calculates $Q_A = n_AG$ \n",
    "\n",
    "Bob generates a secret random integer $n_B$ and calculates $Q_B = n_BG$ \n",
    "\n",
    "Alice sends Bob $Q_A$ and Bob sends alice $Q_B$. Alice then calculates $n_AQ_B$ and Bob calculates $n_BQ_A$. Due to associativity of scalar multiplication $S=n_BQ_A=n_AQ_B$ "
   ]
  },
  {
   "cell_type": "code",
   "execution_count": 69,
   "metadata": {},
   "outputs": [
    {
     "name": "stdout",
     "output_type": "stream",
     "text": [
      "crypto{80e5212754a824d3a4aed185ace4f9cac0f908bf}\n"
     ]
    }
   ],
   "source": [
    "import hashlib \n",
    "\n",
    "a = 497 \n",
    "b = 1768 \n",
    "p = 9739\n",
    "\n",
    "G = Point(1804, 5368, a, b, p)\n",
    "\n",
    "Q_A = Point(815, 3190, a, b, p)\n",
    "n_B = 1829 \n",
    "s = (Q_A*n_B).x \n",
    "m = hashlib.sha1()\n",
    "\n",
    "m.update(str(s).encode(\"utf-8\"))\n",
    "\n",
    "print(\"crypto{\"+m.hexdigest()+\"}\")"
   ]
  },
  {
   "cell_type": "markdown",
   "metadata": {},
   "source": [
    "### Efficient Exchange"
   ]
  },
  {
   "cell_type": "markdown",
   "metadata": {},
   "source": [
    "We don't need to send both $x,y$ given $x$, there are only 2 possible values of $y$\n"
   ]
  },
  {
   "cell_type": "code",
   "execution_count": 17,
   "metadata": {},
   "outputs": [
    {
     "name": "stdout",
     "output_type": "stream",
     "text": [
      "crypto{3ff1c1ent_k3y_3xch4ng3}\n"
     ]
    }
   ],
   "source": [
    "from Crypto.Cipher import AES\n",
    "from Crypto.Util.Padding import pad, unpad\n",
    "import hashlib\n",
    "\n",
    "\n",
    "def is_pkcs7_padded(message):\n",
    "    padding = message[-message[-1]:]\n",
    "    return all(padding[i] == len(padding) for i in range(0, len(padding)))\n",
    "\n",
    "def sqrt(a,p): \n",
    "    return -pow(a,(p+1)//4,p)%p , pow(a,(p+1)//4,p)\n",
    "\n",
    "\n",
    "def decrypt_flag(shared_secret: int, iv: str, ciphertext: str):\n",
    "    # Derive AES key from shared secret\n",
    "    sha1 = hashlib.sha1()\n",
    "    sha1.update(str(shared_secret).encode('ascii'))\n",
    "    key = sha1.digest()[:16]\n",
    "    # Decrypt flag\n",
    "    ciphertext = bytes.fromhex(ciphertext)\n",
    "    iv = bytes.fromhex(iv)\n",
    "    cipher = AES.new(key, AES.MODE_CBC, iv)\n",
    "    plaintext = cipher.decrypt(ciphertext)\n",
    "\n",
    "    if is_pkcs7_padded(plaintext):\n",
    "        return unpad(plaintext, 16).decode('ascii')\n",
    "    else:\n",
    "        return plaintext.decode('ascii')\n",
    "\n",
    "a = 497  \n",
    "b = 1768 \n",
    "p = 9739 \n",
    "\n",
    "x = 4726 \n",
    "n = 6534  \n",
    "\n",
    "y_2 = (pow(x,3,) + a*x + b) %p\n",
    "\n",
    "shared_secret = (Point(x, sqrt(y_2, p)[1],a,b,p)*n).x \n",
    "iv = 'cd9da9f1c60925922377ea952afc212c'\n",
    "ciphertext = 'febcbe3a3414a730b125931dccf912d2239f3e969c4334d95ed0ec86f6449ad8'\n",
    "\n",
    "print(decrypt_flag(shared_secret, iv, ciphertext))"
   ]
  },
  {
   "cell_type": "markdown",
   "metadata": {},
   "source": [
    "# PARAMETER CHOICE "
   ]
  },
  {
   "cell_type": "markdown",
   "metadata": {},
   "source": [
    "### Smooth Criminal"
   ]
  },
  {
   "cell_type": "markdown",
   "metadata": {},
   "source": [
    "https://en.wikipedia.org/wiki/Pohlig–Hellman_algorithm#:~:text=In%20group%20theory%2C%20the%20Pohlig,order%20is%20a%20smooth%20integer.\n",
    "We have smooth order of a curve that's why we can solve ECDLP with Pohlig Hellman"
   ]
  },
  {
   "cell_type": "code",
   "execution_count": 14,
   "metadata": {},
   "outputs": [
    {
     "name": "stdout",
     "output_type": "stream",
     "text": [
      "crypto{n07_4ll_curv3s_4r3_s4f3_curv3s}\n"
     ]
    }
   ],
   "source": [
    "from Crypto.Cipher import AES\n",
    "from Crypto.Util.number import inverse\n",
    "from Crypto.Util.Padding import pad, unpad\n",
    "from collections import namedtuple\n",
    "from random import randint\n",
    "import hashlib\n",
    "import os\n",
    "\n",
    "Point = namedtuple(\"Point\", \"x y\")\n",
    "\n",
    "O = 'Origin'\n",
    "\n",
    "\n",
    "def check_point(P: tuple):\n",
    "    if P == O:\n",
    "        return True\n",
    "    else:\n",
    "        return (P.y**2 - (P.x**3 + a*P.x + b)) % p == 0 and 0 <= P.x < p and 0 <= P.y < p\n",
    "\n",
    "\n",
    "def point_inverse(P: tuple):\n",
    "    if P == O:\n",
    "        return P\n",
    "    return Point(P.x, -P.y % p)\n",
    "\n",
    "\n",
    "def point_addition(P: tuple, Q: tuple):\n",
    "    # based of algo. in ICM\n",
    "    if P == O:\n",
    "        return Q\n",
    "    elif Q == O:\n",
    "        return P\n",
    "    elif Q == point_inverse(P):\n",
    "        return O\n",
    "    else:\n",
    "        if P == Q:\n",
    "            lam = (3*P.x**2 + a)*inverse(2*P.y, p)\n",
    "            lam %= p\n",
    "        else:\n",
    "            lam = (Q.y - P.y) * inverse((Q.x - P.x), p)\n",
    "            lam %= p\n",
    "    Rx = (lam**2 - P.x - Q.x) % p\n",
    "    Ry = (lam*(P.x - Rx) - P.y) % p\n",
    "    R = Point(Rx, Ry)\n",
    "    assert check_point(R)\n",
    "    return R\n",
    "\n",
    "\n",
    "def double_and_add(P: tuple, n: int):\n",
    "    # based of algo. in ICM\n",
    "    Q = P\n",
    "    R = O\n",
    "    while n > 0:\n",
    "        if n % 2 == 1:\n",
    "            R = point_addition(R, Q)\n",
    "        Q = point_addition(Q, Q)\n",
    "        n = n // 2\n",
    "    assert check_point(R)\n",
    "    return R\n",
    "\n",
    "\n",
    "def gen_shared_secret(Q: tuple, n: int):\n",
    "    # Bob's Public key, my secret int\n",
    "    S = double_and_add(Q, n)\n",
    "    return S.x\n",
    "\n",
    "\n",
    "\n",
    "def decrypt_flag(shared_secret, c, iv): \n",
    "    sha1 = hashlib.sha1()\n",
    "    sha1.update(str(shared_secret).encode('ascii'))\n",
    "    key = sha1.digest()[:16]\n",
    "   \n",
    "    cipher = AES.new(key, AES.MODE_CBC, iv)\n",
    "    plaintext = cipher.decrypt(c)\n",
    "    return unpad(plaintext, 16)\n",
    "\n",
    "\n",
    "\n",
    "p = 310717010502520989590157367261876774703\n",
    "a = 2\n",
    "b = 3\n",
    "\n",
    "n = 47836431801801373761601790722388100620 # from sage math \n",
    "\n",
    "b_x = 272640099140026426377756188075937988094\n",
    "b_y = 51062462309521034358726608268084433317\n",
    "B = Point(b_x, b_y)\n",
    "\n",
    "shared_secret = gen_shared_secret(B, n)\n",
    "\n",
    "encrypted_flag = {'iv': '07e2628b590095a5e332d397b8a59aa7', \n",
    "                  'encrypted_flag': '8220b7c47b36777a737f5ef9caa2814cf20c1c1ef496ec21a9b4833da24a008d0870d3ac3a6ad80065c138a2ed6136af'}\n",
    "\n",
    "print(decrypt_flag(shared_secret, bytes.fromhex(encrypted_flag['encrypted_flag']), bytes.fromhex(encrypted_flag['iv'])).decode('utf-8')) "
   ]
  },
  {
   "cell_type": "markdown",
   "metadata": {},
   "source": [
    "### Exceptional Curves"
   ]
  },
  {
   "cell_type": "markdown",
   "metadata": {},
   "source": [
    "https://wstein.org/edu/2010/414/projects/novotney.pdf\n",
    "\n",
    "https://crypto.stackexchange.com/questions/70454/why-smarts-attack-doesnt-work-on-this-ecdlp\n",
    "\n",
    "https://web.archive.org/web/20160312120253/http://www.hpl.hp.com/techreports/97/HPL-97-128.pdf"
   ]
  },
  {
   "cell_type": "code",
   "execution_count": 60,
   "metadata": {},
   "outputs": [
    {
     "name": "stdout",
     "output_type": "stream",
     "text": [
      "crypto{H3ns3l_lift3d_my_fl4g!}\n"
     ]
    }
   ],
   "source": [
    "from Crypto.Cipher import AES\n",
    "from Crypto.Util.Padding import pad, unpad\n",
    "import hashlib\n",
    "\n",
    "def decrypt_flag(secret, iv, c):\n",
    "    sha1 = hashlib.sha1()\n",
    "    sha1.update(str(secret).encode('ascii'))\n",
    "    key = sha1.digest()[:16]\n",
    "\n",
    "    cipher = AES.new(key, AES.MODE_CBC, iv)\n",
    "    return unpad(cipher.decrypt(c),16)\n",
    "\n",
    "\n",
    "def SmartAttack(P,Q,p):\n",
    "    E = P.curve()\n",
    "    Eqp = EllipticCurve(Qp(p), [ ZZ(t)  for t in E.a_invariants() ])\n",
    "\n",
    "    P_Qp = Eqp.lift_x(ZZ(P.xy()[0]))\n",
    "    Q_Qp = Eqp.lift_x(ZZ(Q.xy()[0]))\n",
    "\n",
    "    p_times_P = p*P_Qp\n",
    "    p_times_Q = p*Q_Qp\n",
    "\n",
    "    x_P,y_P = p_times_P.xy()\n",
    "    x_Q,y_Q = p_times_Q.xy()\n",
    "\n",
    "    phi_P = -(x_P/y_P)\n",
    "    phi_Q = -(x_Q/y_Q)\n",
    "    k = phi_Q/phi_P\n",
    "\n",
    "    return ZZ(k)\n",
    "\n",
    "g = (3034712809375537908102988750113382444008758539448972750581525810900634243392172703684905257490982543775233630011707375189041302436945106395617312498769005,\n",
    "    4986645098582616415690074082237817624424333339074969364527548107042876175480894132576399611027847402879885574130125050842710052291870268101817275410204850)\n",
    "\n",
    "pk =  (4748198372895404866752111766626421927481971519483471383813044005699388317650395315193922226704604937454742608233124831870493636003725200307683939875286865,\n",
    "    2421873309002279841021791369884483308051497215798017509805302041102468310636822060707350789776065212606890489706597369526562336256272258544226688832663757)\n",
    "\n",
    "enc = {'iv': '719700b2470525781cc844db1febd994', 'encrypted_flag': '335470f413c225b705db2e930b9d460d3947b3836059fb890b044e46cbb343f0'}\n",
    "iv = bytes.fromhex(enc['iv'])\n",
    "encrypted_flag = bytes.fromhex(enc['encrypted_flag'])\n",
    "\n",
    "b_x = 0x7f0489e4efe6905f039476db54f9b6eac654c780342169155344abc5ac90167adc6b8dabacec643cbe420abffe9760cbc3e8a2b508d24779461c19b20e242a38\n",
    "b_y = 0xdd04134e747354e5b9618d8cb3f60e03a74a709d4956641b234daa8a65d43df34e18d00a59c070801178d198e8905ef670118c15b0906d3a00a662d3a2736bf\n",
    "   \n",
    "\n",
    "p = 0xa15c4fb663a578d8b2496d3151a946119ee42695e18e13e90600192b1d0abdbb6f787f90c8d102ff88e284dd4526f5f6b6c980bf88f1d0490714b67e8a2a2b77\n",
    "a = 0x5e009506fcc7eff573bc960d88638fe25e76a9b6c7caeea072a27dcd1fa46abb15b7b6210cf90caba982893ee2779669bac06e267013486b22ff3e24abae2d42\n",
    "b = 0x2ce7d1ca4493b0977f088f6d30d9241f8048fdea112cc385b793bce953998caae680864a7d3aa437ea3ffd1441ca3fb352b0b710bb3f053e980e503be9a7fece\n",
    "\n",
    "\n",
    "E = EllipticCurve(GF(p), [a, b])\n",
    "P = E(pk[0],pk[1])\n",
    "G = E(g[0], g[1])\n",
    "Q = E(b_x, b_y)\n",
    "\n",
    "k = SmartAttack(G,P,p)\n",
    "ss = (k*Q).xy()[0]\n",
    "\n",
    "print(decrypt_flag(ss, iv, encrypted_flag).decode())\n"
   ]
  },
  {
   "cell_type": "markdown",
   "metadata": {},
   "source": [
    "### Micro Transmissions"
   ]
  },
  {
   "cell_type": "markdown",
   "metadata": {},
   "source": [
    "We can use Pollig-Hellman algorithm to solve DLP because of small $p$ "
   ]
  },
  {
   "cell_type": "code",
   "execution_count": 10,
   "metadata": {},
   "outputs": [
    {
     "data": {
      "text/plain": [
       "b'%\\xc1\\x870\\xf1\\x1bqVD{`\\x9e)\\x00Q\\xec\\xb4\\x1b\\xc2\\xceG\\x0fl\\xe4\\x11(A\\x9f]D\\xff\\xb6'"
      ]
     },
     "execution_count": 10,
     "metadata": {},
     "output_type": "execute_result"
    }
   ],
   "source": [
    "import hashlib \n",
    "from Crypto.Cipher import AES \n",
    "from Crypto.Util.Padding import unpad\n",
    "\n",
    "flag =  {'iv': 'ceb34a8c174d77136455971f08641cc5', 'encrypted_flag': 'b503bf04df71cfbd3f464aec2083e9b79c825803a4d4a43697889ad29eb75453'}\n",
    "\n",
    "ss = 71305760181590994283497011485670689323451437179425419742468846237902256821556\n",
    "sha1 = hashlib.sha1() \n",
    "sha1.update(str(ss).encode('ascii'))\n",
    "key = sha1.digest()[:16]\n",
    "\n",
    "iv = bytes.fromhex(flag['iv'])\n",
    "c = bytes.fromhex(flag['encrypted_flag'])\n",
    "\n",
    "cipher = AES.new(key, AES.MODE_CBC, iv)\n",
    "cipher.decrypt(c)"
   ]
  },
  {
   "cell_type": "markdown",
   "metadata": {},
   "source": [
    "### Elliptic Nodes"
   ]
  },
  {
   "cell_type": "markdown",
   "metadata": {},
   "source": [
    "Resources: \n",
    "1. https://crypto.stackexchange.com/questions/97811/find-elliptic-curve-parameters-a-and-b-given-two-points-on-the-curve \n",
    "2. https://crypto.stackexchange.com/questions/61302/how-to-solve-this-ecdlp\n",
    "\n",
    "First we have to find $a,b$ parameters for the curve [1]\n",
    "\n",
    "Given two points $P=(x_1, y_1)$ $Q = (x_2, y_2)$ \n",
    "\n",
    "$y_1^2 = x_1^3 + ax_1 + b (\\bmod N)$ \n",
    "\n",
    "$y_2^2 = x_2^3 + ax_2 + b (\\bmod N)$\n",
    "\n",
    "<hr>\n",
    "\n",
    "$y_1^2 - y_2^2 = x_1^3 - x_2^3 + a(x_1 - x_2) (\\bmod N)$ \n",
    "\n",
    "$a = (y_1^2 - y_2^2 - (x_1^3 - x_2^3)) * (x_1 - x_2)^{-1} (\\bmod N)$\n",
    "\n",
    "\n",
    "When we use sage to define an Elliptic Curve this way we get error that this is a singular curve, googling how to solve DLP on singular curve leads to [2]\n",
    "\n",
    "Singular point is when $\\frac{dy}{dx} = \\frac{dx}{dy} = \\frac{0}{0}$ \n",
    "\n",
    "We translate curve to have singular point at $(0,0)$ by changing variables \n",
    "$(x,y) -> (x-s, y-0)$\n",
    "\n",
    "This curve is a node, we can map it to multiplicative group where we solve DLP easy. Because our singular point coordinate has square modulo $p$, we know it maps to $F^*_p$ where we solve DLP\n"
   ]
  },
  {
   "cell_type": "code",
   "execution_count": 4,
   "metadata": {},
   "outputs": [
    {
     "name": "stdout",
     "output_type": "stream",
     "text": [
      "crypto{s1ngul4r_s1mplif1c4t1on}\n"
     ]
    }
   ],
   "source": [
    "from Crypto.Util.number import long_to_bytes\n",
    "print(long_to_bytes(175707932493016342199601625200584496546434097133638117913010244817446203005).decode()) "
   ]
  },
  {
   "cell_type": "markdown",
   "metadata": {},
   "source": [
    "### Moving Problems"
   ]
  },
  {
   "cell_type": "markdown",
   "metadata": {},
   "source": [
    "Resources:\n",
    "1. https://crypto.stackexchange.com/questions/1871/how-does-the-mov-attack-work\n",
    "2. https://crypto.stanford.edu/pbc/notes/elliptic/movattack.html\n",
    "3. https://math.stackexchange.com/questions/824123/what-is-an-embedding-degree-of-elliptic-curve\n",
    "\n",
    "The MOV attack uses a bilinear pairing, which is a function $e$ that maps two points in an Elliptic curve $E(\\mathbb F_q)$ to an element in the finite field $F_q^k$ where $k$ is the embedding degree for the curve. \n",
    "\n",
    "The pairing is considered to be secure if taking discrete log both in $E(\\mathbb F_q)$ and $\\mathbb F^{*}_{q^k}$ are computationally infeasible \n",
    "\n",
    "The bilinearity means that $e(rP, sQ) = e(P,Q)^{rs}$ for points $P,Q$. Therefore if we want to compute the discrete logarithm for $rP$, we can instead compute $u=e(P,Q)$ and $v = e(rP,Q)$ for any $Q$. Due to bilinearity we have that $v=e(P,Q)^r = u^r$. Now we can solve discrete log in $F_{q^k}$.\n",
    "\n",
    "We calculate $k$ with this theorem : \n",
    "\n",
    "Let $E$ be an elliptic curve defined over a finite field $\\mathbb F_q$, let $n$ be a prime dividing $\\#E(\\mathbb F_q)$. The embedding degree of $E$ with respect to $n$ is the smallest integer $k$ s.t. $n$ divides $q^k-1$ \n",
    "\n",
    "So we find the number of points on elliptic curve ($\\#E(\\mathbb F_q$) and find $k$"
   ]
  },
  {
   "cell_type": "code",
   "execution_count": 2,
   "metadata": {},
   "outputs": [
    {
     "data": {
      "text/plain": [
       "b'crypto{MOV_attack_on_non_supersingular_curves}'"
      ]
     },
     "execution_count": 2,
     "metadata": {},
     "output_type": "execute_result"
    }
   ],
   "source": [
    "import hashlib \n",
    "from Crypto.Cipher import AES\n",
    "from Crypto.Util.Padding import pad, unpad\n",
    "\n",
    "G = (479691812266187139164535778017 , 568535594075310466177352868412)\n",
    "Pa =  (1110072782478160369250829345256 , 800079550745409318906383650948)\n",
    "Pb =  (1290982289093010194550717223760 , 762857612860564354370535420319)\n",
    "encrypted_flag =  {'iv': 'eac58c26203c04f68d63dc2c58d79aca', \n",
    "                   'encrypted_flag': 'bb9ecbd3662d0671fd222ccb07e27b5500f304e3621a6f8e9c815bc8e4e6ee6ebc718ce9ca115cb4e41acb90dbcabb0d'}\n",
    "\n",
    "ss = 57514367079882430785803122958\n",
    "\n",
    "\n",
    "iv = bytes.fromhex(encrypted_flag['iv'])\n",
    "c = bytes.fromhex(encrypted_flag['encrypted_flag'])\n",
    "\n",
    "\n",
    "sha1 = hashlib.sha1()\n",
    "sha1.update(str(ss).encode('ascii'))\n",
    "key = sha1.digest()[:16]\n",
    "   \n",
    "cipher = AES.new(key, AES.MODE_CBC, iv)\n",
    "plaintext = cipher.decrypt(c)\n",
    "unpad(plaintext, 16)\n"
   ]
  },
  {
   "cell_type": "markdown",
   "metadata": {},
   "source": [
    "# PARAMETER CHOICE 2"
   ]
  },
  {
   "cell_type": "markdown",
   "metadata": {},
   "source": [
    "### Real Curve Crypto"
   ]
  },
  {
   "cell_type": "markdown",
   "metadata": {},
   "source": [
    "https://hackmd.io/@grhkm/By-_iF795\n",
    "\n",
    "https://math.mit.edu/classes/18.783/2015/LectureNotes15.pdf"
   ]
  },
  {
   "cell_type": "code",
   "execution_count": 1,
   "metadata": {},
   "outputs": [],
   "source": [
    "d = {\"gx\": \"1.15939524880832589559531697886995971202850341796875\", \n",
    " \"gy\": \"0.63171256444643032392780992695525219049591162225190317013257297329770648576821328127894482837966831464341245854394869021441094534520252153121771214144624262228503025100001998247467928012492847829951495\", \n",
    " \"px\": \"1052.1869486109503324827555468817188804055933729601321435932864694301534931492427433020783168479195188024409373571681097603398390379320742186401833284576176214641603772370675124838606986281131453644941\", \n",
    " \"py\": \"34130.226434169760878074808301335090475271836563983186858174748793301185920507814323732035620490086239117019147179225251544229354849757884152095399018744815803126126630119173317092410331587882005521149\", \n",
    " \"ciphertext\": \"a104b68d30a207eabf293324fbde64f8d628fb07068058c1e76e670e7e805fc567f739185bbe6cbb44f09013173ee653\", \n",
    " \"iv\": \"485f9a1e4a3b19348367280df13f9e77\"}"
   ]
  },
  {
   "cell_type": "markdown",
   "metadata": {},
   "source": [
    "# SIGNATURES"
   ]
  },
  {
   "cell_type": "markdown",
   "metadata": {},
   "source": [
    "### Digestive"
   ]
  },
  {
   "cell_type": "markdown",
   "metadata": {},
   "source": [
    "On wikipedia of ECDSA it states that: \n",
    "- We use the $L_n$ leftmost bits of $e$ as $z$ and use that in other calculations \n",
    "\n",
    "Since it uses nist 192 curve, it is actually 192 bits that are used, or 24 bytes which means that username or whatever is after doesn't affect verification, so we can just send admin:true in our json and be done "
   ]
  },
  {
   "cell_type": "code",
   "execution_count": 28,
   "metadata": {},
   "outputs": [
    {
     "name": "stdout",
     "output_type": "stream",
     "text": [
      "crypto{thanx_for_ctf_inspiration_https://mastodon.social/@filippo/109360453402691894}\n"
     ]
    }
   ],
   "source": [
    "import requests\n",
    "import json \n",
    "url = 'https://web.cryptohack.org/digestive/'\n",
    "\n",
    "data = json.loads(requests.get(url+\"sign/\" + 'aaa').text)\n",
    "sig = data['signature']\n",
    "\n",
    "msg = '{\"admin\": false, \"username\": \"aaa\", \"admin\":true}'\n",
    "print(json.loads(requests.get(url +\"verify/\" + msg +\"/\" + sig).text)['flag'])"
   ]
  },
  {
   "cell_type": "markdown",
   "metadata": {},
   "source": [
    "### Curveball"
   ]
  },
  {
   "cell_type": "markdown",
   "metadata": {},
   "source": [
    "Because generator is not checked we can abuse this fact and send our pk with forged private key d, so basically we could use one to get Q*1 = Q \n",
    "\n",
    "But since check is implemented we send whatever number we want for private key and send inverse of this number multiplied by Q, so they cancel out and we are left with public key, being verified as the wrong entity"
   ]
  },
  {
   "cell_type": "code",
   "execution_count": 21,
   "metadata": {},
   "outputs": [
    {
     "name": "stdout",
     "output_type": "stream",
     "text": [
      "b'Welcome to my secure search engine backed by trusted certificate library!\\n'\n",
      "b'\"Hey bing! Tell me about crypto{Curveballing_Microsoft_CVE-2020-0601}\"\\n'\n"
     ]
    }
   ],
   "source": [
    "import telnetlib\n",
    "import json\n",
    "import fastecdsa\n",
    "from fastecdsa.point import Point\n",
    "from Crypto.Util.number import inverse\n",
    "\n",
    "HOST = \"socket.cryptohack.org\"\n",
    "PORT = 13382\n",
    "\n",
    "G = fastecdsa.curve.P256.G\n",
    "assert G.x, G.y == [0x6B17D1F2E12C4247F8BCE6E563A440F277037D812DEB33A0F4A13945D898C296,\n",
    "                    0x4FE342E2FE1A7F9B8EE7EB4A7C0F9E162BCE33576B315ECECBB6406837BF51F5]\n",
    "\n",
    "\n",
    "tn = telnetlib.Telnet(HOST, PORT)\n",
    "\n",
    "def readline():\n",
    "    return tn.read_until(b\"\\n\")\n",
    "\n",
    "def json_recv():\n",
    "    line = readline()\n",
    "    return json.loads(line.decode())\n",
    "\n",
    "def json_send(hsh):\n",
    "    request = json.dumps(hsh).encode()\n",
    "    tn.write(request)\n",
    "\n",
    "print(readline())\n",
    "pk =  Point(0x3B827FF5E8EA151E6E51F8D0ABF08D90F571914A595891F9998A5BD49DFA3531, 0xAB61705C502CA0F7AA127DEC096B2BBDC9BD3B4281808B3740C320810888592A)\n",
    "              \n",
    "gen = inverse(3, fastecdsa.curve.P256.q)*pk \n",
    "\n",
    "msg =   {\"host\":\"www.bing.com\",\n",
    "         \"private_key\": 3, \n",
    "         \"curve\": \"secp256r1\",\n",
    "         \"generator\": [gen.x, gen.y]}\n",
    "\n",
    "json_send(msg)\n",
    "\n",
    "print(readline())\n"
   ]
  },
  {
   "cell_type": "markdown",
   "metadata": {},
   "source": [
    "### ProSign 3"
   ]
  },
  {
   "cell_type": "markdown",
   "metadata": {},
   "source": [
    "This is basically PS3 nonce reuse attack on ECDSA, because of \n",
    "\n",
    "```python\n",
    "randrange(1, n)\n",
    "```\n",
    "\n",
    "Where n is seconds, so we will send attack query for 2 because only possible value is 1, and for 3 as well so we can get either 1,2 so it will work 1/2 the times, so expected would be 2 runs. \n",
    "\n",
    "Now we derive formula for reused nonce to get the private key, we sign arbitrary message then \n",
    "\n",
    "$s_1 = k^{-1}(H(m_1) + r d)$\n",
    "\n",
    "$s_2 = k^{-1}(H(m_2) + r d)$\n",
    "\n",
    "From here we can calculate $k$ \n",
    "\n",
    "$s_1k = H(m_1) + rd $ \n",
    "\n",
    "$s_2k = H(m_2) + rd $ \n",
    "\n",
    "$k(s_2 - s_1) = H(m_2) - H(m_1)$ \n",
    "\n",
    "$k = (s_2 - s_1)^{-1} (H(m_2) - H(m_1))$\n",
    "\n",
    "When we plug this in \n",
    "\n",
    "$s_2k = H(m_2) + rd$ \n",
    "\n",
    "$s_2k - H(m_2) = rd$ \n",
    "\n",
    "$(s_2k - H(m_2))*r^{-1} = d$ \n"
   ]
  },
  {
   "cell_type": "code",
   "execution_count": 31,
   "metadata": {},
   "outputs": [
    {
     "name": "stdout",
     "output_type": "stream",
     "text": [
      "b'Welcome to ProSign 3. You can sign_time or verify.\\n'\n",
      "True\n",
      "crypto{ECDSA_700_345y_70_5cr3wup}\n"
     ]
    }
   ],
   "source": [
    "import telnetlib\n",
    "import json\n",
    "import hashlib \n",
    "from datetime import datetime \n",
    "from ecdsa.ecdsa import Public_key, Private_key, Signature, generator_192\n",
    "import time \n",
    "\n",
    "from Crypto.Util.number import bytes_to_long\n",
    "\n",
    "HOST = \"socket.cryptohack.org\"\n",
    "PORT = 13381\n",
    "\n",
    "g = generator_192\n",
    "n = g.order()\n",
    "\n",
    "tn = telnetlib.Telnet(HOST, PORT)\n",
    "\n",
    "def readline():\n",
    "    return tn.read_until(b\"\\n\")\n",
    "\n",
    "def json_send(hsh):\n",
    "    request = json.dumps(hsh).encode()\n",
    "    tn.write(request)\n",
    "\n",
    "def sha1(m): \n",
    "    sha1_hash = hashlib.sha1()\n",
    "    sha1_hash.update(m)\n",
    "    return sha1_hash.digest()\n",
    "\n",
    "def send(t): \n",
    "    while True: \n",
    "        now = datetime.now()\n",
    "        if now.strftime(\"%S\") == t:\n",
    "            m = dict()\n",
    "            m['option'] = 'sign_time' \n",
    "            json_send(m)\n",
    "            return json.loads(readline().decode('utf-8')) \n",
    "        time.sleep(1) \n",
    "\n",
    "print(readline())\n",
    "\n",
    "response = send('02')\n",
    "s1, r1, h1 = int(response['s'],16), int(response['r'],16), bytes_to_long(sha1(response['msg'].encode())) \n",
    "\n",
    "\n",
    "response = send('03') \n",
    "s2, r2, h2 = int(response['s'],16), int(response['r'],16), bytes_to_long(sha1(response['msg'].encode())) \n",
    "\n",
    "r = r1 = r2 \n",
    "print(r1 == r2)\n",
    "\n",
    "k = pow((s2 - s1), -1, n) * (h2 - h1)%n \n",
    "d = pow(r, -1, n) * ((s1*k) - h1)%n \n",
    "\n",
    "pk1, _= Signature(r1, s1).recover_public_keys(h1, g)\n",
    "sk1 = Private_key(pk1, d) \n",
    "\n",
    "forgery = dict() \n",
    "forgery['msg'] = 'unlock'\n",
    "forgery['option'] = 'verify'\n",
    "\n",
    "h = bytes_to_long(sha1(\"unlock\".encode()))\n",
    "\n",
    "sig = sk1.sign(h, 1) \n",
    "forgery['r'] = hex(sig.r) \n",
    "forgery['s'] = hex(sig.s) \n",
    "\n",
    "json_send(forgery)\n",
    "print(json.loads(readline().decode('utf-8'))['flag'])\n",
    "\n"
   ]
  },
  {
   "cell_type": "markdown",
   "metadata": {},
   "source": [
    "### No Random, No Bias"
   ]
  },
  {
   "cell_type": "markdown",
   "metadata": {},
   "source": [
    "https://eprint.iacr.org/2019/023.pdf\n",
    "\n",
    "https://blog.trailofbits.com/2020/06/11/ecdsa-handle-with-care/"
   ]
  },
  {
   "cell_type": "markdown",
   "metadata": {},
   "source": [
    "# EDWARDS CURVES"
   ]
  },
  {
   "cell_type": "markdown",
   "metadata": {},
   "source": [
    "### Edwards Goes Degenerate"
   ]
  },
  {
   "cell_type": "markdown",
   "metadata": {},
   "source": [
    "Name kinda suggested it you can find it explained here: \n",
    "https://eprint.iacr.org/2015/1233.pdf \n",
    "\n",
    "We reduce the problem to solving discrete log in the multiplicative group of the base field. \n",
    "\n",
    "Theorem: Let $E_{a,d}$ be a twisted Edwards curve over $F_p$. The subset $\\widetilde{G} \\subset \\mathbb{F}_p^2$ of the affine plane consisting of points of the form $(0,y),y \\neq 0$ endowed with the addition law defined by the same formula as $E_{a,d}$ given by equation, forms a group isomorphic to $\\mathbb{F}^*_p$ under the isomorphism $y \\mapsto (0,y)$\n",
    "\n",
    "We chose the invalid point $\\widetilde{P}$ of the form $(0, \\widetilde{y})$ and recieve as a result the scalar multiplication of $\\widetilde{P}$ by the secret $k$ in the group $\\widetilde{G}$ or $(\\widetilde{y^k})$, now we get $k$ by solving discrete log in $F^*_p$ "
   ]
  },
  {
   "cell_type": "code",
   "execution_count": 8,
   "metadata": {},
   "outputs": [
    {
     "name": "stdout",
     "output_type": "stream",
     "text": [
      "crypto{degenerates_will_never_keep_a_secret}\n"
     ]
    }
   ],
   "source": [
    "from Crypto.Util.number import inverse, bytes_to_long\n",
    "from Crypto.Cipher import AES\n",
    "from Crypto.Util.Padding import pad, unpad\n",
    "from random import randint\n",
    "from hashlib import sha1\n",
    "import os\n",
    "\n",
    "FLAG = b'crypto{????????????????????????????????????}'\n",
    "\n",
    "\n",
    "class TwistedEdwards():\n",
    "    # Elliptic curve in Edwards form:\n",
    "    # -x**2 + y**2 = 1 + d*x**2*y**2\n",
    "    # birationally equivalent to the Montgomery curve:\n",
    "    # y**2 = x**3 + 2*(1-d)/(1+d)*x**2 + x\n",
    "\n",
    "    def __init__(self, p, d, order, x0bit, y0):\n",
    "        self.p = p\n",
    "        self.d = d\n",
    "        self.order = order\n",
    "        self.base_point = (x0bit, y0)\n",
    "\n",
    "    def recover_x(self, xbit, y):\n",
    "        xsqr = (y**2 - 1)*inverse(1 + self.d*y**2, self.p) % self.p\n",
    "        x = pow(xsqr, (self.p + 1)//4, self.p)\n",
    "        if x**2 == xsqr :\n",
    "            if x & 1 != xbit:\n",
    "                return p - x\n",
    "            return x\n",
    "        return 0\n",
    "\n",
    "    def decompress(self, compressed_point):\n",
    "        xbit, y = compressed_point\n",
    "        x = self.recover_x(xbit, y)\n",
    "        return (x, y)\n",
    "\n",
    "    # complete point addition formulas\n",
    "    def add(self, P1, P2):\n",
    "        x1, y1 = P1\n",
    "        x2, y2 = P2\n",
    "        \n",
    "        C = x1*x2 % self.p\n",
    "        D = y1*y2 % self.p\n",
    "        E = self.d*C*D\n",
    "        x3 = (1 - E)*((x1 + y1)*(x2 + y2) - C - D) % self.p\n",
    "        y3 = (1 + E)*(D + C) % self.p\n",
    "        z3 = 1 - E**2 % self.p\n",
    "        z3inv = inverse(z3, self.p)\n",
    "        return (x3*z3inv % self.p, y3*z3inv % self.p)\n",
    "\n",
    "    # left-to-right double-and-add\n",
    "    def single_mul(self, n, compressed_point):\n",
    "        P = self.decompress(compressed_point)        \n",
    "        t = n.bit_length()\n",
    "        if n == 0:\n",
    "            return (0,1)\n",
    "        R = P\n",
    "        for i in range(t-2,-1,-1):\n",
    "            bit = (n >> i) & 1\n",
    "            R = self.add(R, R)\n",
    "            if bit == 1:\n",
    "                R = self.add(R, P)\n",
    "        return (R[0] & 1, R[1])\n",
    "\n",
    "\n",
    "def gen_key_pair(curve):\n",
    "    n = randint(1, curve.order-1)\n",
    "    P = curve.single_mul(n, curve.base_point)\n",
    "    return n, P\n",
    "    \n",
    "def gen_shared_secret(curve, n, P):\n",
    "    xbit, y = curve.single_mul(n, P)\n",
    "    return y\n",
    "    \n",
    "\n",
    "def encrypt_flag(shared_secret: int):\n",
    "    # Derive AES key from shared secret\n",
    "    key = sha1(str(shared_secret).encode('ascii')).digest()[:16]\n",
    "    # Encrypt flag\n",
    "    iv = os.urandom(16)\n",
    "    cipher = AES.new(key, AES.MODE_CBC, iv)\n",
    "    ciphertext = cipher.encrypt(pad(FLAG, 16))\n",
    "    # Prepare data to send\n",
    "    data = {}\n",
    "    data['iv'] = iv.hex()\n",
    "    data['encrypted_flag'] = ciphertext.hex()\n",
    "    return data\n",
    "\n",
    "\n",
    "\n",
    "\n",
    "p = 110791754886372871786646216601736686131457908663834453133932404548926481065303\n",
    "order = 27697938721593217946661554150434171532902064063497989437820057596877054011573\n",
    "d = 14053231445764110580607042223819107680391416143200240368020924470807783733946\n",
    "x0bit = 1\n",
    "y0 = 11\n",
    "curve = TwistedEdwards(p, d, order, x0bit, y0)\n",
    "\n",
    "pA =  (0, 109790246752332785586117900442206937983841168568097606235725839233151034058387)\n",
    "pB =  (0, 45290526009220141417047094490842138744068991614521518736097631206718264930032)\n",
    "\n",
    "encrypted_flag =  {'iv': '31068e75b880bece9686243fa4dc67d0', \n",
    "                   'encrypted_flag': 'e2ef82f2cde7d44e9f9810b34acc885891dad8118c1d9a07801639be0629b186dc8a192529703b2c947c20c4fe5ff2c8'}\n",
    "\n",
    "a = 22177185339821817642584340290303072361216253354374422848549320419774574392697 # from sagemath code \n",
    "shared_secret = gen_shared_secret(curve, a, pB) \n",
    "\n",
    "key = sha1(str(shared_secret).encode('ascii')).digest()[:16]\n",
    "iv = bytes.fromhex(encrypted_flag['iv']) \n",
    "c = bytes.fromhex(encrypted_flag['encrypted_flag'])\n",
    "\n",
    "cipher = AES.new(key, AES.MODE_CBC, iv)\n",
    "print(unpad(cipher.decrypt(c),16).decode('utf-8')) "
   ]
  },
  {
   "cell_type": "markdown",
   "metadata": {},
   "source": [
    "# SIDE CHANNELS "
   ]
  },
  {
   "cell_type": "markdown",
   "metadata": {},
   "source": [
    "### Montgomery's Ladder"
   ]
  },
  {
   "cell_type": "markdown",
   "metadata": {},
   "source": [
    "Input: $P \\in E(F_p)$ and $l$-bit integer $k = \\Sigma 2^i k_i$ where $k_{i-1} = 1$\n",
    "\n",
    "Output: $[k]P \\in E(F_p)$\n",
    "\n",
    "1. Set ($R_{\\empty}, R_1$) to ($P,[2]P$)\n",
    "2. for i = l-2 down to $\\empty$ do \n",
    "3. If $k_i = \\empty$ then  \n",
    "4. Set($R_{\\empty}, R_1$) to ($[2]R_{\\empty}, R_{\\empty} +R_1$)  \n",
    "5. Else: \n",
    "6. Set($R_{\\empty}, R_1$) to ($R_{\\empty} +R_1, [2]R_{1}$)\n",
    "7. Return $R_{\\empty}$\n",
    "\n",
    "Montogomery curves: $By^2 = x^3 + Ax^2 + x$ "
   ]
  },
  {
   "cell_type": "code",
   "execution_count": 49,
   "metadata": {},
   "outputs": [
    {
     "name": "stdout",
     "output_type": "stream",
     "text": [
      "crypto{49231350462786016064336756977412654793383964726771892982507420921563002378152}\n"
     ]
    }
   ],
   "source": [
    "def add_montgomery(P,Q): \n",
    "    x1 = P.x \n",
    "    y1 = P.y \n",
    "    x2 = Q.x \n",
    "    y2 = Q.y \n",
    "    p = P.p \n",
    "\n",
    "    alpha = (y2-y1)*inv(x2-x1,p)  \n",
    "    x3 = P.b * alpha * alpha - P.a - x1 - x2 \n",
    "    y3 = alpha * (x1-x3) - y1 \n",
    "\n",
    "    return Point(x3%p, y3%p, P.a, P.b, P.p)\n",
    "\n",
    "def double_montgomery(P): \n",
    "    x1 = P.x \n",
    "    y1 = P.y \n",
    "    p = P.p \n",
    "\n",
    "    alpha = (3*x1*x1 + 2 * P.a * x1 + 1)*inv(2*P.b*y1,p) \n",
    "    x3 = P.b*alpha*alpha - P.a - 2*x1 \n",
    "    y3 = alpha * (x1 - x3) - y1 \n",
    "\n",
    "    return Point(x3%p, y3%p, P.a, P.b, P.p)\n",
    "\n",
    "def mul_montgomery(k,P): \n",
    "    l = len(bin(k)) - 2 # because of 0b \n",
    "    R0 = P \n",
    "    R1 = double_montgomery(P) \n",
    "\n",
    "    for i in range(l-2, -1, -1): \n",
    "        ki = (k >> i) & 1 \n",
    "        if ki == 0: \n",
    "            R0, R1 = double_montgomery(R0), add_montgomery(R0, R1) \n",
    "        else: \n",
    "            R0, R1 = add_montgomery(R0, R1), double_montgomery(R1) \n",
    "\n",
    "    return R0 \n",
    "\n",
    "def legendre(a, p):\n",
    "    return pow(a, (p - 1) // 2, p)\n",
    "\n",
    "def tonelli(n, p):\n",
    "    assert legendre(n, p) == 1, \"not a square (mod p)\"\n",
    "    q = p - 1\n",
    "    s = 0\n",
    "    while q % 2 == 0:\n",
    "        q //= 2\n",
    "        s += 1\n",
    "    if s == 1:\n",
    "        return pow(n, (p + 1) // 4, p)\n",
    "    for z in range(2, p):\n",
    "        if p - 1 == legendre(z, p):\n",
    "            break\n",
    "    c = pow(z, q, p)\n",
    "    r = pow(n, (q + 1) // 2, p)\n",
    "    t = pow(n, q, p)\n",
    "    m = s\n",
    "    t2 = 0\n",
    "    while (t - 1) % p != 0:\n",
    "        t2 = (t * t) % p\n",
    "        for i in range(1, m):\n",
    "            if (t2 - 1) % p == 0:\n",
    "                break\n",
    "            t2 = (t2 * t2) % p\n",
    "        b = pow(c, 1 << (m - i - 1), p)\n",
    "        r = (r * b) % p\n",
    "        c = (b * b) % p\n",
    "        t = (t * c) % p\n",
    "        m = i\n",
    "    return r\n",
    "\n",
    "\n",
    "p = pow(2,255) - 19\n",
    "B = 1 \n",
    "a = 486662 \n",
    "E = lambda x,p: (x**3 + a*x*x + x) %p \n",
    "k = int('0x1337c0decafe',16)\n",
    "G = Point(9, tonelli(E(9,p),p), a, b, p) \n",
    "\n",
    "print('crypto{'+str(mul_montgomery(k, G).x)+'}')  \n",
    " "
   ]
  },
  {
   "cell_type": "markdown",
   "metadata": {},
   "source": [
    "### Double and Broken "
   ]
  },
  {
   "cell_type": "code",
   "execution_count": 15,
   "metadata": {},
   "outputs": [
    {
     "name": "stdout",
     "output_type": "stream",
     "text": [
      "crypto{Sid3_ch4nn3ls_c4n_br34k_s3cur3_curv3s}\n"
     ]
    }
   ],
   "source": [
    "import ast \n",
    "import numpy as np \n",
    "from Crypto.Util.number import long_to_bytes\n",
    "import matplotlib.pyplot as plt \n",
    "\n",
    "\n",
    "with open('data/collected_data.txt', 'r') as file:\n",
    "    data = file.read()\n",
    "\n",
    "power_list = np.array(ast.literal_eval(data))\n",
    "avg = np.mean(power_list)\n",
    "\n",
    "bits = (np.mean(power_list, axis = 0)>avg).astype(int)\n",
    "bits = bits[::-1]\n",
    "\n",
    "binary_string = ''.join(str(bit) for bit in bits)\n",
    "l = int(binary_string,2)\n",
    "\n",
    "print(long_to_bytes(int(l)).decode('utf-8'))"
   ]
  }
 ],
 "metadata": {
  "kernelspec": {
   "display_name": "SageMath 10.2",
   "language": "sage",
   "name": "SageMath-10.2"
  },
  "language_info": {
   "codemirror_mode": {
    "name": "ipython",
    "version": 3
   },
   "file_extension": ".py",
   "mimetype": "text/x-python",
   "name": "sage",
   "nbconvert_exporter": "python",
   "pygments_lexer": "ipython3",
   "version": "3.11.1"
  }
 },
 "nbformat": 4,
 "nbformat_minor": 2
}
