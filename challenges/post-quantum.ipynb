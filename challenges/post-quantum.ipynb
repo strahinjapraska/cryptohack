{
 "cells": [
  {
   "cell_type": "markdown",
   "metadata": {},
   "source": [
    "# LEARNING WITH ERRORS"
   ]
  },
  {
   "cell_type": "markdown",
   "metadata": {},
   "source": [
    "### LWE Background"
   ]
  },
  {
   "cell_type": "code",
   "execution_count": 1,
   "metadata": {},
   "outputs": [
    {
     "name": "stdout",
     "output_type": "stream",
     "text": [
      "Oded Regev\n"
     ]
    }
   ],
   "source": [
    "print('Oded Regev')"
   ]
  },
  {
   "cell_type": "markdown",
   "metadata": {},
   "source": [
    "### LWE Intro"
   ]
  },
  {
   "cell_type": "markdown",
   "metadata": {},
   "source": [
    "https://cims.nyu.edu/~regev/papers/lwesurvey.pdf\n",
    "\n",
    "https://web.archive.org/web/20231008081450/https://cryptopedia.dev/posts/kyber/\n",
    "\n",
    "https://cims.nyu.edu/~regev/papers/qcrypto.pdf\n",
    "\n",
    "LWE is computational problem of learning a linear function $f(A)$ which takes values over a ring, given many noisy samples of the function. These samples look like the pair $A, A\\cdot S+e$ where $S$ is the secret element which defines the linear function, $e$ is some small error term from a known distribution, and $A$ is also known element of the ring \n",
    "\n",
    "Cryptosystems based on LWE have these features: \n",
    "1. They use modular arithmetic under two different moduli, the plaintext modulus and the ciphertext modulus \n",
    "2. The secret key is an element of a vector space $\\bmod N$ \n",
    "3. Messages are encrypted by adding an encoded noisy message to a large dot-product\n",
    "\n",
    "The noisy message is properly encoded sum of the message and a small error or noise term. \n",
    "\n",
    "The dot-product is between the secret and a random element of the vector space, where this is random element is provided as part of the ciphertext \n",
    "\n",
    "This looks like $(A, A \\cdot s +$ encoded $(m,e))$ , where $A$ is an element of the vector space\n",
    "\n",
    "If the secret key is known then the dot product can be subtracted out, leaving only the encoded message and noise. Thanks to the special way in which the message and noise are encoded, the noise can be remove from the encoding, leaving only the message behind. \n",
    "\n",
    "There are two common ways to store message and noise in LWE systems: you can either store the message in the high bits of the LWE sample and the noise in the low bits or vice-versa. \n",
    "\n",
    "What algorithm could we use if there was no error term? "
   ]
  },
  {
   "cell_type": "code",
   "execution_count": 1,
   "metadata": {},
   "outputs": [
    {
     "name": "stdout",
     "output_type": "stream",
     "text": [
      "Gaussian elimination\n"
     ]
    }
   ],
   "source": [
    "print('Gaussian elimination')"
   ]
  },
  {
   "cell_type": "markdown",
   "metadata": {},
   "source": [
    "### LWE High Bits Message"
   ]
  },
  {
   "cell_type": "markdown",
   "metadata": {},
   "source": [
    "Parameters: \n",
    "1. vector space dimension $n$ \n",
    "2. ciphertext modulus $q$ \n",
    "3. plaintext modulus $p$ (can only encrypt messages $<p$)\n",
    "4. scaling factor $\\Delta = round(q/p)$\n",
    "\n",
    "Key-gen: \n",
    "- The secret key $S$ is a random element of the vector space $Z_q^n$ \n",
    "\n",
    "Ciphertext format: \n",
    "- Ciphertexts consist of pair $A,b$ where $A$ is an element of the vector space $Z_q^n$ and $b$ is an element of $Z_q$ \n",
    "\n",
    "Encryption given message $m$: \n",
    "1. Sample $A$, a random element of the vector space $Z_q^n$\n",
    "2. Sample the error term $e$, an integer in the range $[-\\frac{\\Delta}{2}, \\frac{\\Delta}{2}]$, can be Gaussian distribution or uniform\n",
    "3. Compute $b = $A \\cdot S + \\Delta m + e$ \n",
    "4. Return the pair $(A,b)$\n",
    "\n",
    "Decryption given ciphertext $(A,b)$: \n",
    "1. Compute $x = b - A \\cdot S \\bmod q$ and then interpret x as an integer (not $\\bmod q$)\n",
    "2. Compute $m = round(\\frac{x}{\\Delta})$ where rounding and division happen over integers \n",
    "3. return m \n",
    "\n",
    "In this system, decryption works because after the dot product is removed, the remaining equation for the noisy message $\\Delta m +e$ holds over integers, so there is no modular wraparound due to $q$. As such, removing the error term can be done by rounding integer-division. This requires the parameters to be chosen so that $\\Delta m + e < \\frac{q}{2}$ holds. "
   ]
  },
  {
   "cell_type": "code",
   "execution_count": 2,
   "metadata": {},
   "outputs": [
    {
     "name": "stdout",
     "output_type": "stream",
     "text": [
      "201\n"
     ]
    }
   ],
   "source": [
    "print(201)"
   ]
  },
  {
   "cell_type": "markdown",
   "metadata": {},
   "source": [
    "### LWE Low Bits Message"
   ]
  },
  {
   "cell_type": "markdown",
   "metadata": {},
   "source": [
    "$ q,p$ must be coprime \n",
    "\n",
    "Encryption given message $m$: \n",
    "1. Sample $A$, a random element of the vector space $Z_q^n$ \n",
    "2. Sample the error term $e$, an integer in the range $[-\\frac{q}{2p},\\frac{q}{2p}]$\n",
    "3. Compute $b = A \\cdot S + pe$\n",
    "4. Return pair $(A,b)$\n",
    "\n",
    "Decryption given ciphertext $(A,b)$: \n",
    "1. Compute $x = b - A \\cdot S$ centered $\\bmod q$ and then interpret $x$ as integer (not $\\bmod q$). Note this centered modular reduction must produce a result between $(-q/2, q/2]$, as opposed to usual modular reduction producing a result between $[0, q-1]$\n",
    "2. Compute $m = x \\bmod p$ where division and rounding happens over the integers \n",
    "3. return $m$ \n",
    "\n",
    "Decryption works because after removing the dot product, the remaining equation for the noisy message $ m +pe$ holds over the integers, so there is no modular wraparound due to $q$. As such, removing the error term $e$ can be done by reducing $\\bmod p$. This requires parameters to be chosen so that $m + pe < \\frac{q}{2}$ holds. "
   ]
  },
  {
   "cell_type": "code",
   "execution_count": 3,
   "metadata": {},
   "outputs": [
    {
     "name": "stdout",
     "output_type": "stream",
     "text": [
      "147\n"
     ]
    }
   ],
   "source": [
    "print(147)"
   ]
  },
  {
   "cell_type": "markdown",
   "metadata": {},
   "source": [
    "### From Private to Public Key LWE"
   ]
  },
  {
   "cell_type": "markdown",
   "metadata": {},
   "source": [
    "This can be turned into a public key cryptosystem by using the **additively homomorphic\" property of LWE. That is, given an encryption $<A,b>$ encrypting the number $m$, it is possible for anyone to turn this into a valid encryption of $m + m_2$ for any number $m_2$. Explicitly this is done by computing $<A, b+m_2>$ for low-bit message and $<A,b+ \\delta m_2>$ for high bit messages. \n",
    "\n",
    "Similarly, adding two LWE ciphertexts produces a new valid ciphertext which encrypts the sum of corresponding plaintexts. The owner of the private key can use this property to turn LWE into a public key system by releasing many different encryptions of zero as the public key. For Alice to use this information to encrypt, she first chooses a random subset of these encryptions of zero and add them together. By the second additively homomorphic property, this is also a valid encryption of zero. Next, Alice creates a new encoding for her message $m$, and adds this encoded message to this new encryption of zero. By the first additevly homomoprhic property, this is a valid encryption fo $m$. This procedure requires the distribution from which the noise samples are drawn to be carefully chosen so that the final error term is (with high probability) below the threshold needed to decrypt. \n",
    "\n",
    "In order for this to be secure, it must be hard for an adversary to determine which public key samples were summed to produce the LWE ciphertext. To ensure this, the number of encryptions of zero in the public key must be significantly larger than the LWE dimesion. As such, the size of public key scales as $O(n^2 log(q))$ bits, making LWE cryptosystems have large public keys. \n",
    "\n",
    "What is the size of a Kyber1024 public key in bytes?"
   ]
  },
  {
   "cell_type": "code",
   "execution_count": 1,
   "metadata": {},
   "outputs": [
    {
     "name": "stdout",
     "output_type": "stream",
     "text": [
      "1568\n"
     ]
    }
   ],
   "source": [
    "print(1568)"
   ]
  },
  {
   "cell_type": "markdown",
   "metadata": {},
   "source": [
    "### Noise Free"
   ]
  },
  {
   "cell_type": "markdown",
   "metadata": {},
   "source": [
    "We issue 64 encryptions of 0, that way we get $A_i,b_i$ we stack them up in matrices and solve\n",
    "\n",
    "$As =b$ to get the secret key $s$ then we use that key do decrypt each byte of encrypted flag"
   ]
  },
  {
   "cell_type": "code",
   "execution_count": 32,
   "metadata": {},
   "outputs": [
    {
     "name": "stdout",
     "output_type": "stream",
     "text": [
      "crypto{linear_algebra_is_useful}\n"
     ]
    }
   ],
   "source": [
    "from python import utils\n",
    "import ast \n",
    "\n",
    "n = 64\n",
    "p = 257\n",
    "q = 0x10001\n",
    "\n",
    "F = GF(q) \n",
    "V = VectorSpace(F,n)\n",
    "\n",
    "c = utils.Challenge(int(13411))\n",
    "c.readline()\n",
    "\n",
    "A = [] \n",
    "b = [] \n",
    "for _ in range(n): \n",
    "    c.json_send({'option': 'encrypt', 'message': int(0)})\n",
    "    r = c.json_recv()\n",
    "\n",
    "    A_i = ast.literal_eval(r['A'])\n",
    "    A.append(A_i) \n",
    "\n",
    "    b_i = int(r['b'])\n",
    "    b.append(b_i) \n",
    "\n",
    "A = matrix(F,A)\n",
    "b = vector(F,b) \n",
    "S = A.solve_right(b) \n",
    "\n",
    "\n",
    "flag = list(\"crypto{????????????????????????}\")\n",
    "for i in range(7,len(flag)-1): \n",
    "    c.json_send({'option': 'get_flag','index': int(i)})\n",
    "    r = c.json_recv()\n",
    "    A = V(tuple(ast.literal_eval(r['A'])))\n",
    "    b = F(int(r['b']))\n",
    "    flag[i]=chr(int(b-A*S))\n",
    "\n",
    "print(''.join(flag))\n"
   ]
  },
  {
   "cell_type": "markdown",
   "metadata": {},
   "source": [
    "### Nativity"
   ]
  },
  {
   "cell_type": "markdown",
   "metadata": {},
   "source": [
    "https://eprint.iacr.org/2020/666.pdf\n",
    "\n",
    "https://eprint.iacr.org/2013/839.pdf"
   ]
  },
  {
   "cell_type": "code",
   "execution_count": 6,
   "metadata": {},
   "outputs": [
    {
     "data": {
      "text/plain": [
       "array([1, 1, 0, 1, 1, 0, 1, 1, 1, 0, 1, 1, 1, 0, 0, 1, 0, 1, 0, 0, 0, 1,\n",
       "       0, 1, 0, 0, 1, 1, 1, 0, 1, 0, 1, 0, 1, 1, 1, 0, 1, 1, 1, 0, 1, 0,\n",
       "       1, 0, 0, 0, 0, 1, 0, 0, 0, 1, 0, 1, 0, 0, 0, 0, 0, 0, 1, 1, 0, 0,\n",
       "       1, 0, 0, 1, 1, 1, 1, 1, 1, 1, 1, 1, 0, 1, 1, 1, 0, 1, 0, 0, 1, 1,\n",
       "       1, 1, 0, 0, 0, 0, 1, 1, 0, 1, 1, 0, 0, 1, 1, 0, 1, 1, 0, 1, 0, 1,\n",
       "       1, 0, 1, 1, 0, 0, 1, 1, 1, 1, 1, 0, 0, 0, 1, 1, 0, 1, 0, 1, 0, 1,\n",
       "       1, 1, 1, 0, 1, 1, 0, 1, 0, 0, 1, 1, 1, 0, 0, 0, 0, 0, 1, 1, 0, 1,\n",
       "       1, 1, 1, 0, 1, 1, 1, 1, 1, 0, 1, 1, 0, 1, 1, 0, 0, 0, 1, 0, 1, 1,\n",
       "       0, 0, 1, 0, 1, 1, 0, 0, 1, 0, 1, 1, 0, 1, 1, 0, 1, 0, 1, 0, 1, 0,\n",
       "       1, 0, 1, 0, 1, 1, 1, 0, 0, 0, 1, 1, 1, 1, 0, 0, 0, 0, 0, 0, 1, 0,\n",
       "       0, 1, 0, 1, 1, 1, 1, 0, 0, 0, 1, 1, 1, 1, 1, 0, 1, 1, 0, 1, 1, 1,\n",
       "       0, 0, 1, 1, 0, 1, 0, 0, 0, 1, 0, 0, 1, 1, 1, 1, 0, 0, 1, 1, 0, 1,\n",
       "       0, 1, 0, 1, 1, 0, 1, 1, 1, 1, 1, 0, 0, 0, 1, 1, 1, 1, 0, 0, 1, 0,\n",
       "       0, 0, 1, 0, 1, 0, 1, 0, 0, 1, 1, 0, 1, 1, 1, 0, 1, 1, 0, 0, 1, 0,\n",
       "       1, 1, 0, 0, 1, 1, 1, 1, 1, 0, 1, 1, 0, 1, 0, 0, 0, 0, 1, 1, 1, 0,\n",
       "       1, 1, 0, 0, 1, 0, 0, 1, 1, 1, 1, 1, 0, 0, 1, 1, 1, 1, 0, 1, 0, 0,\n",
       "       0, 1, 1, 0, 0, 0, 0, 1, 1, 1, 0, 1, 0, 1, 0, 0, 0, 0, 1, 1, 1, 1,\n",
       "       0, 0, 1, 1, 1, 1, 1, 0, 0, 1, 0, 1, 0, 0, 0, 1, 1, 0, 1, 1, 1, 1,\n",
       "       0, 1, 1, 1, 0, 0, 0, 0, 1, 0, 0, 0, 0, 1, 0, 0, 0, 0, 1, 0, 1, 0,\n",
       "       1, 1, 1, 1, 0, 0, 1, 1, 1, 0, 1, 0, 1, 1, 1, 0, 1, 1, 1, 1, 0, 1,\n",
       "       0, 1, 0, 0, 1, 0, 1, 1, 1, 0, 1, 0, 1, 1, 1, 1, 0, 0, 1, 0, 1, 1,\n",
       "       0, 1, 0, 0, 1, 0, 1, 0, 1, 0, 1, 1, 1, 0, 0, 1, 1, 0, 1, 0, 1, 1,\n",
       "       0, 1, 0, 1, 1, 1, 0, 1, 0, 1, 0, 0, 1, 1, 1, 0, 0, 1, 0, 0, 0, 0,\n",
       "       1, 0, 0, 1, 1, 0], dtype=uint16)"
      ]
     },
     "execution_count": 6,
     "metadata": {},
     "output_type": "execute_result"
    }
   ],
   "source": [
    "import numpy as np\n",
    "from random import SystemRandom\n",
    "\n",
    "n = 64\n",
    "\n",
    "m = 512\n",
    "dtype = np.uint16\n",
    "\n",
    "random = SystemRandom()\n",
    "sigma = 2.3\n",
    "def normal(): return round(random.gauss(0, sigma))\n",
    "def binary(): return random.randrange(2)\n",
    "\n",
    "def sample(shape, dist):\n",
    "    return np.fromfunction(np.vectorize(lambda *_: dist()), shape).astype(dtype)\n",
    "\n",
    "\n",
    "\n",
    "sample((m,), binary)"
   ]
  },
  {
   "cell_type": "code",
   "execution_count": null,
   "metadata": {},
   "outputs": [],
   "source": []
  }
 ],
 "metadata": {
  "kernelspec": {
   "display_name": "Python 3",
   "language": "python",
   "name": "python3"
  },
  "language_info": {
   "codemirror_mode": {
    "name": "ipython",
    "version": 3
   },
   "file_extension": ".py",
   "mimetype": "text/x-python",
   "name": "python",
   "nbconvert_exporter": "python",
   "pygments_lexer": "ipython3",
   "version": "3.12.3"
  }
 },
 "nbformat": 4,
 "nbformat_minor": 2
}
