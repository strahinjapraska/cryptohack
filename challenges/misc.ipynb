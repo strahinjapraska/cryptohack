{
 "cells": [
  {
   "cell_type": "markdown",
   "metadata": {},
   "source": [
    "## Utils"
   ]
  },
  {
   "cell_type": "code",
   "execution_count": 2,
   "metadata": {},
   "outputs": [
    {
     "name": "stderr",
     "output_type": "stream",
     "text": [
      "/var/folders/s6/v17rrjkx205gt68br6qh7zqr0000gn/T/ipykernel_1504/3786777262.py:1: DeprecationWarning: 'telnetlib' is deprecated and slated for removal in Python 3.13\n",
      "  import telnetlib\n"
     ]
    }
   ],
   "source": [
    "import telnetlib \n",
    "import json\n",
    "\n",
    "def readline():\n",
    "    return tn.read_until(b\"\\n\")\n",
    "\n",
    "def json_recv():\n",
    "    line = readline()\n",
    "    return json.loads(line.decode())\n",
    "\n",
    "def json_send(hsh):\n",
    "    request = json.dumps(hsh).encode()\n",
    "    tn.write(request)\n",
    "\n",
    "HOST = 'socket.cryptohack.org' "
   ]
  },
  {
   "cell_type": "markdown",
   "metadata": {},
   "source": [
    "# ONE TIME PAD"
   ]
  },
  {
   "cell_type": "markdown",
   "metadata": {},
   "source": [
    "### Gotta Go Fast "
   ]
  },
  {
   "cell_type": "markdown",
   "metadata": {},
   "source": [
    "Since server uses current time as input to SHA256 as key we can send 2 challenges fast and get same key for encryption of flag and our message"
   ]
  },
  {
   "cell_type": "code",
   "execution_count": 13,
   "metadata": {},
   "outputs": [
    {
     "name": "stdout",
     "output_type": "stream",
     "text": [
      "crypto{t00_f4st_t00_furi0u5}\n"
     ]
    }
   ],
   "source": [
    "from pwn import xor \n",
    "PORT = 13372\n",
    "tn = telnetlib.Telnet(HOST, PORT)\n",
    "\n",
    "readline()\n",
    "\n",
    "m_prime = b'crypto{????????????????????}'\n",
    "forgery = {}\n",
    "forgery['option'] = 'encrypt_data'\n",
    "forgery['input_data'] = m_prime.hex() \n",
    "\n",
    "json_send(forgery)\n",
    "r = json_recv()\n",
    "c_prime = bytes.fromhex(r['encrypted_data']) \n",
    "k= xor(c_prime, m_prime)\n",
    "\n",
    "json_send({'option':'get_flag'})\n",
    "r = json_recv()\n",
    "c = bytes.fromhex(r['encrypted_flag'])\n",
    "print(xor(c, k).decode())"
   ]
  },
  {
   "cell_type": "markdown",
   "metadata": {},
   "source": [
    "### No leaks"
   ]
  },
  {
   "cell_type": "markdown",
   "metadata": {},
   "source": [
    "So it checks if ciphertext has same byte as flag, so basically if we get ciphertext back, we can remove from guesses all the characters we've seen there for our bytes. "
   ]
  },
  {
   "cell_type": "code",
   "execution_count": 36,
   "metadata": {},
   "outputs": [
    {
     "name": "stdout",
     "output_type": "stream",
     "text": [
      "crypto{unr4nd0m_07p}\n"
     ]
    }
   ],
   "source": [
    "import base64 \n",
    "\n",
    "PORT = 13370\n",
    "tn = telnetlib.Telnet(HOST, PORT)\n",
    "\n",
    "readline()\n",
    "FLAG = \"crypto{????????????}\"\n",
    "\n",
    "guesses = [] \n",
    "for _ in range(len(FLAG)-8): \n",
    "    guesses.append([i for i in range(33,127)])\n",
    "\n",
    "while True: \n",
    "    progress = sum([len(i) for i in guesses]) \n",
    "    \n",
    "    if progress == 12: \n",
    "        break \n",
    "\n",
    "    json_send({'msg': 'request'})\n",
    "    r = json_recv()\n",
    "    \n",
    "    if \"error\" not in r:  \n",
    "        c = base64.b64decode(r['ciphertext'])\n",
    "        c = c[7:len(FLAG)-1]\n",
    "        for i in range(len(c)): \n",
    "            try: \n",
    "                guesses[i].remove(c[i]) \n",
    "            except Exception: \n",
    "                continue \n",
    "f = \"crypto{\"           \n",
    "for i, g in enumerate(guesses): \n",
    "    f+=chr(g[0]) \n",
    "print(f+\"}\")"
   ]
  },
  {
   "cell_type": "markdown",
   "metadata": {},
   "source": [
    "# ELGAMAL"
   ]
  },
  {
   "cell_type": "markdown",
   "metadata": {},
   "source": [
    "### Bit by Bit"
   ]
  },
  {
   "cell_type": "markdown",
   "metadata": {},
   "source": [
    "$Padding = 256^t, t\\in [2..q] = 2^{8t}$\n",
    "\n",
    "```py\n",
    "me = padding << 1 + m % 2\n",
    "```\n",
    "\n",
    "$m_{padded} = \\begin{cases}\n",
    "  2^{8t+1} & \\text{if } m \\equiv 0 (\\bmod2) \\\\\n",
    "  2^{8t+2} & \\text{if } m \\equiv 1 (\\bmod2)\n",
    "\\end{cases}$\n",
    "\n",
    "We can write this term as $2^{2(4t+1)}$, so we use Legrende's symbol to check if our $m_{padded}$ is quadratic residue $\\bmod q$, i.e if there exists some $x$, s.t.\n",
    "\n",
    "$x^2 \\equiv m_{padded} \\bmod q$ because of term 2 we expressed. \n",
    "\n",
    "Now we also have to check whether $g$ is quadratic residue mod q"
   ]
  },
  {
   "cell_type": "code",
   "execution_count": 43,
   "metadata": {},
   "outputs": [
    {
     "name": "stdout",
     "output_type": "stream",
     "text": [
      "crypto{s0m3_th1ng5_4r3_pr3served_4ft3r_encrypti0n}\n"
     ]
    }
   ],
   "source": [
    "from sympy.ntheory import legendre_symbol\n",
    "from Crypto.Util.number import long_to_bytes\n",
    "\n",
    "q = 117477667918738952579183719876352811442282667176975299658506388983916794266542270944999203435163206062215810775822922421123910464455461286519153688505926472313006014806485076205663018026742480181999336912300022514436004673587192018846621666145334296696433207116469994110066128730623149834083870252895489152123\n",
    "g = 104831378861792918406603185872102963672377675787070244288476520132867186367073243128721932355048896327567834691503031058630891431160772435946803430038048387919820523845278192892527138537973452950296897433212693740878617106403233353998322359462259883977147097970627584785653515124418036488904398507208057206926\n",
    "\n",
    "assert(legendre_symbol(g,q) == 1)\n",
    "\n",
    "data = None \n",
    "\n",
    "def to_tuple(str):\n",
    "    str = str.strip()\n",
    "    str = str[1:-1]\n",
    "    str = str.split(\",\")\n",
    "    return str[0],str[1]\n",
    "\n",
    "with open(\"data/bit_by_bit.txt\") as f: \n",
    "    data = f.readlines()\n",
    "\n",
    "FLAG = \"\"\n",
    "for i in range(1,len(data),2): \n",
    "    c2 = int(to_tuple(data[i])[1].split(\"=\")[1],16)\n",
    "    if legendre_symbol(c2,q) ==  1:\n",
    "        FLAG+=\"1\"\n",
    "    else:\n",
    "        FLAG+=\"0\"\n",
    "\n",
    "FLAG = FLAG[::-1] \n",
    "print(long_to_bytes(int(FLAG,2)).decode())"
   ]
  },
  {
   "cell_type": "markdown",
   "metadata": {},
   "source": [
    "# SECRET SHARING SCHEMES"
   ]
  },
  {
   "cell_type": "markdown",
   "metadata": {},
   "source": [
    "### Armory"
   ]
  },
  {
   "cell_type": "markdown",
   "metadata": {},
   "source": [
    "https://en.wikipedia.org/wiki/Shamir%27s_secret_sharing\n",
    "\n",
    "We've got the evaluation of polynomial $y$ and $a_1$ given to us, since polynomial is of degree 2 and following the code we derive that $x=a1$ \n",
    "and that $a_2=H(a_1)$ $H$ - SHA256. \n",
    "\n",
    "$y = a_2x^2 + a_1x + f \\bmod p$\n",
    " \n",
    "$f = y - a_2a_1^2 - a_1^2 \\bmod p$ \n"
   ]
  },
  {
   "cell_type": "code",
   "execution_count": 9,
   "metadata": {},
   "outputs": [
    {
     "name": "stdout",
     "output_type": "stream",
     "text": [
      "crypto{fr46m3n73d_b4ckup_vuln?}\n"
     ]
    }
   ],
   "source": [
    "from Crypto.Util.number import long_to_bytes, bytes_to_long\n",
    "import hashlib  \n",
    "a1,y = (105622578433921694608307153620094961853014843078655463551374559727541051964080, \n",
    " 25953768581962402292961757951905849014581503184926092726593265745485300657424)\n",
    "\n",
    "p = 77793805322526801978326005188088213205424384389488111175220421173086192558047\n",
    "a2 = bytes_to_long(hashlib.sha256(long_to_bytes(a1)).digest()) \n",
    "\n",
    "print(long_to_bytes((y-a2*a1*a1 - a1*a1)%p).decode())"
   ]
  },
  {
   "cell_type": "markdown",
   "metadata": {},
   "source": [
    "### Toshi's Treasure"
   ]
  },
  {
   "cell_type": "markdown",
   "metadata": {},
   "source": [
    "https://en.wikipedia.org/wiki/Shamir%27s_secret_sharing\n",
    "\n",
    "\n",
    "$f(0) = a_0 = \\sum y_j\\Pi\\frac{x_m}{x_m-x_j}$\n",
    "\n",
    "We send $y = 0$ so we get everything but first \n",
    "\n",
    "We calculate hyper's $y$ and send it back\n",
    "\n",
    "We combine with our y and the product with everything but first"
   ]
  },
  {
   "cell_type": "code",
   "execution_count": 70,
   "metadata": {},
   "outputs": [
    {
     "name": "stdout",
     "output_type": "stream",
     "text": [
      "{'sender': 'your_share', 'x': 6, 'y': '0x1c13501adb88e6e8f1cc36d929704de302e0277c3e7a2cc591c6e2bf9b1641c98b4a7255e4e7e1fedb87825f02f3e6e434b028a1497bcfe027c1104013f7af3dd37'}\n",
      "{'sender': 'mpeg', 'msg': \"alright, let's go! I have x=2 and I'll start by secretly submitting my y point to our key-combiner\", 'x': 2, 'y': '0x???'}\n",
      "{'sender': 'codecrafting', 'msg': 'submitting my point', 'x': 3, 'y': '0x???'}\n",
      "{'sender': 'RichGirlOnLSD', 'msg': 'sending in my x=4 point, so excited!', 'x': 4, 'y': '0x???'}\n",
      "{'sender': 'pogo', 'msg': 'sent my x=5 val, your turn next hyper', 'x': 5, 'y': '0x???'}\n",
      "{'sender': 'mpeg', 'msg': 'WTF, this privkey is invalid!'}\n",
      "{'sender': 'codecrafting', 'msg': \"hmm, hopefully someone just missed a character when pasting. let's try this one more time, and send in all our shares again. your turn hyper\"}\n",
      "{'sender': 'ssss-combine', 'privkey': '8b09cfc4696b91a1cc43372ac66ca36556a41499b495f28cc7ab193e32eadd30'}\n",
      "{'sender': 'mpeg', 'msg': 'this privkey links to a wallet which only has $1k in it! another mistake by the game devs, what a surprise :('}\n",
      "{'sender': 'Your Bitcoin Wallet', 'msg': \"send me a JSON key 'privkey' with the hex-encoded value of your private key to unlock the wallet\"}\n",
      "{'sender': 'flag', 'msg': \"congrats, you fooled 'em with maths, crypto{shoulda_used_verifiable_secret_sharing}\"}\n"
     ]
    }
   ],
   "source": [
    "from python import utils\n",
    "\n",
    "my_1k_wallet_privkey = int(\"8b09cfc4696b91a1cc43372ac66ca36556a41499b495f28cc7ab193e32eadd30\",16)\n",
    "p = 2**521 - 1 # 13th Mersenne prime \n",
    "\n",
    "\n",
    "c = utils.Challenge(int(13384))\n",
    "\n",
    "\n",
    "r = c.json_recv()\n",
    "print(r)\n",
    "other_parties = [2, 3, 4, 5]\n",
    "me = r['x']\n",
    "my_y = r['y']\n",
    "\n",
    "print(c.json_recv())\n",
    "print(c.json_recv())\n",
    "print(c.json_recv())\n",
    "print(c.json_recv())\n",
    "\n",
    "to_send = {}\n",
    "to_send['sender'] = 'kriska'\n",
    "to_send['msg'] = 'sending'\n",
    "to_send['x'] = me \n",
    "to_send['y'] = hex(0)\n",
    "\n",
    "c.json_send(to_send)\n",
    "\n",
    "priv_key_fail = int(c.json_recv()['privkey'],16) \n",
    "print(c.json_recv())\n",
    "print(c.json_recv())\n",
    "\n",
    "\n",
    "pi_x = 1\n",
    "for x in other_parties:\n",
    "    pi_x *= (x * pow((x - me), -1, p))\n",
    "    pi_x%=p\n",
    "\n",
    "y = ((my_1k_wallet_privkey - priv_key_fail)*pow(pi_x,-1,p))%p\n",
    "\n",
    "to_send['y'] = hex(y)\n",
    "c.json_send(to_send)\n",
    "\n",
    "print(c.json_recv())\n",
    "print(c.json_recv())\n",
    "print(c.json_recv())\n",
    "\n",
    "real_priv_key = (priv_key_fail + int(my_y, 16)*pi_x) % p\n",
    "to_send = {'privkey': hex(real_priv_key)}\n",
    "\n",
    "c.json_send(to_send)\n",
    "print(c.json_recv())"
   ]
  }
 ],
 "metadata": {
  "kernelspec": {
   "display_name": "Python 3",
   "language": "python",
   "name": "python3"
  },
  "language_info": {
   "codemirror_mode": {
    "name": "ipython",
    "version": 3
   },
   "file_extension": ".py",
   "mimetype": "text/x-python",
   "name": "python",
   "nbconvert_exporter": "python",
   "pygments_lexer": "ipython3",
   "version": "3.12.3"
  }
 },
 "nbformat": 4,
 "nbformat_minor": 2
}
